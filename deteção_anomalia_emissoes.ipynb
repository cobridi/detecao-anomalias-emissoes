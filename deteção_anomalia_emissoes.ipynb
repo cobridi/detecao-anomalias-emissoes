{
  "nbformat": 4,
  "nbformat_minor": 0,
  "metadata": {
    "kernelspec": {
      "name": "python3",
      "display_name": "Python 3"
    },
    "varInspector": {
      "cols": {
        "lenName": 16,
        "lenType": 16,
        "lenVar": 40
      },
      "kernels_config": {
        "python": {
          "delete_cmd_postfix": "",
          "delete_cmd_prefix": "del ",
          "library": "var_list.py",
          "varRefreshCmd": "print(var_dic_list())"
        },
        "r": {
          "delete_cmd_postfix": ") ",
          "delete_cmd_prefix": "rm(",
          "library": "var_list.r",
          "varRefreshCmd": "cat(var_dic_list()) "
        }
      },
      "types_to_exclude": [
        "module",
        "function",
        "builtin_function_or_method",
        "instance",
        "_Feature"
      ],
      "window_display": false
    },
    "colab": {
      "name": "Cópia de deteção_anomalia_emissoes.ipynb",
      "provenance": [],
      "collapsed_sections": [],
      "toc_visible": true,
      "include_colab_link": true
    }
  },
  "cells": [
    {
      "cell_type": "markdown",
      "metadata": {
        "id": "view-in-github",
        "colab_type": "text"
      },
      "source": [
        "<a href=\"https://colab.research.google.com/github/cobridi/detecao-anomalias-emissoes/blob/main/dete%C3%A7%C3%A3o_anomalia_emissoes.ipynb\" target=\"_parent\"><img src=\"https://colab.research.google.com/assets/colab-badge.svg\" alt=\"Open In Colab\"/></a>"
      ]
    },
    {
      "cell_type": "markdown",
      "metadata": {
        "id": "1R6BPzT8dIRE"
      },
      "source": [
        "# Introdução\n",
        "\n",
        "Este Notebook faz parte do trabalho final do curso BI MASTER Turma 2019.03 do aluno Claudio Bridi, orientado pela Prof. Evelyn.\n",
        "\n",
        "# Objetivo: \n",
        "\n",
        "Criar um algoritmo para detectar anomalias em série temporal de emissões mensais de CO2-equivalente das fontes de uma UEP (Unidade Estacionária de Produção de Óleo e Gás), no período de 2015 a 2019.\n",
        "\n",
        "# Material\n",
        "- Google Colaboratory\n",
        "- Planilha de dados brutos contendo \"nome da instalação\", \"tipo de fonte\", \"código da fonte\", \"Ano\", \"Mês\", \"CO2 emitido\", em formatos csv e excel\n",
        "- Git Hub\n",
        "- Arquivo com código em python da disciplina CONF: deteçãodeanomaliasemseries.ipynb\n",
        "\n",
        "# Aplicabilidade:\n",
        "Este algoritmo poderá ser utilizado na industria de óleo e gás, mais especificamente, e também para empresas que precisem registrar, inventariar, divulgar e trabalhar com dados de emissões de gases de efeito estufa. Para detecção e correção das anomalias em dados, na maioria das vezes inseridos manualmente em sistema ou planilha específica, também costumamente são verificados no olho por algum profissional todos o anos, antes de comporem as informações do inventário e relatório de emissões, divulgado tanto internamente quanto para stakeholders externos. Isto é, por serem muitos dados e de muitas fontes, anomalias podem passar despercebidas, prejudicando a análise de dados, atendimento de compromissos assumidos e perda de credibilidade.\n",
        "\n",
        "# Orientação:\n",
        "Esta ideia surgiu na disciplina de Confiabilidade quando estudamos a detecção de anomalias em séries temporais de dados de precipitação em NY. Pensei em como ponto de partida utilizar o mesmo algorítimo e avançar a partir de então. #\n",
        "\n",
        "# Prazo:\n",
        "Finalizado no GitHub até 30/12/2020.\n"
      ]
    },
    {
      "cell_type": "markdown",
      "metadata": {
        "id": "QkUY3H-MN2gK"
      },
      "source": [
        "# Detecção de anomalias em Séries Temporais de Emissões de Gases de Efeito Estufa por equipamentos de uma plataforma de petróleo\n",
        "\n",
        "### Planejamento por etapas:\n",
        "\n",
        "*  Carregar, preparar e analisar dados\n",
        "*  Pré-Processar os dados\n",
        "*  Controle estatístico do processo (CEP) para detectar anomalias*\n",
        "*  Modelos Autorregressivos\n",
        "*  Avaliação dos modelos\n",
        "*  Conclusão Final\n",
        "\n",
        "\n",
        "\n",
        "\n",
        "\n",
        "\n",
        "\n"
      ]
    },
    {
      "cell_type": "markdown",
      "metadata": {
        "id": "MRSjprkrdIRE"
      },
      "source": [
        "## Importando\n",
        "\n"
      ]
    },
    {
      "cell_type": "code",
      "metadata": {
        "id": "n5w5PUjeqIAw",
        "colab": {
          "base_uri": "https://localhost:8080/"
        },
        "outputId": "442936a7-c44d-4c56-ea6b-356868374074"
      },
      "source": [
        "%matplotlib inline\r\n",
        "#import warnings\r\n",
        "#warnings.filterwarnings('ignore', category=FutureWarning)\r\n",
        "import sys\r\n",
        "import datetime as dt\r\n",
        "import numpy as np\r\n",
        "import pandas as pd\r\n",
        "import matplotlib\r\n",
        "import matplotlib.pyplot as plt\r\n",
        "import random\r\n",
        "import seaborn as sns\r\n",
        "from scipy import stats\r\n",
        "import statsmodels as ss\r\n",
        "import statsmodels.api as sm\r\n",
        "from statsmodels.tsa.arima_model import ARIMA\r\n",
        "from datetime import datetime\r\n",
        "from dateutil.parser import parse"
      ],
      "execution_count": 3,
      "outputs": [
        {
          "output_type": "stream",
          "text": [
            "/usr/local/lib/python3.6/dist-packages/statsmodels/tools/_testing.py:19: FutureWarning: pandas.util.testing is deprecated. Use the functions in the public API at pandas.testing instead.\n",
            "  import pandas.util.testing as tm\n"
          ],
          "name": "stderr"
        }
      ]
    },
    {
      "cell_type": "markdown",
      "metadata": {
        "id": "D37CN0FcdIRI"
      },
      "source": [
        "## Python and library versions"
      ]
    },
    {
      "cell_type": "code",
      "metadata": {
        "colab": {
          "base_uri": "https://localhost:8080/"
        },
        "id": "hYShu1pkqnA6",
        "outputId": "30278d50-4f43-480a-a89d-131946e068e3"
      },
      "source": [
        "packages = [matplotlib, np, pd]\r\n",
        "\r\n",
        "msg = f\"\"\"\r\n",
        "Python Version: {sys.version}\r\n",
        "\r\n",
        "library .      version\r\n",
        "-------        -------\"\"\"\r\n",
        "print(msg)\r\n",
        "\r\n",
        "for package in packages:\r\n",
        "    print(f\"{package.__name__:11}    {package.__version__:>7}\")"
      ],
      "execution_count": 72,
      "outputs": [
        {
          "output_type": "stream",
          "text": [
            "\n",
            "Python Version: 3.6.9 (default, Oct  8 2020, 12:12:24) \n",
            "[GCC 8.4.0]\n",
            "\n",
            "library .      version\n",
            "-------        -------\n",
            "matplotlib       3.2.2\n",
            "numpy           1.19.4\n",
            "pandas           1.1.5\n"
          ],
          "name": "stdout"
        }
      ]
    },
    {
      "cell_type": "markdown",
      "metadata": {
        "id": "CrqzvHXZdIRL"
      },
      "source": [
        "# Seção 1: Carregar, Preparar e Analisar os dados"
      ]
    },
    {
      "cell_type": "code",
      "metadata": {
        "colab": {
          "base_uri": "https://localhost:8080/",
          "height": 197
        },
        "id": "OI85PjU4q5h1",
        "outputId": "43a07734-2f0c-46f8-827d-aa4516791964"
      },
      "source": [
        "df_emissions = pd.read_excel('Platco2e2015_2019.xlsx', header=7)\r\n",
        "df_emissions.head()"
      ],
      "execution_count": 73,
      "outputs": [
        {
          "output_type": "execute_result",
          "data": {
            "text/html": [
              "<div>\n",
              "<style scoped>\n",
              "    .dataframe tbody tr th:only-of-type {\n",
              "        vertical-align: middle;\n",
              "    }\n",
              "\n",
              "    .dataframe tbody tr th {\n",
              "        vertical-align: top;\n",
              "    }\n",
              "\n",
              "    .dataframe thead th {\n",
              "        text-align: right;\n",
              "    }\n",
              "</style>\n",
              "<table border=\"1\" class=\"dataframe\">\n",
              "  <thead>\n",
              "    <tr style=\"text-align: right;\">\n",
              "      <th></th>\n",
              "      <th>07 - Instalação</th>\n",
              "      <th>11 - Tipo de Fonte</th>\n",
              "      <th>14 - Fonte Emissora</th>\n",
              "      <th>21 - Ano civil</th>\n",
              "      <th>20 - Mês/Ano</th>\n",
              "      <th>CO2e - AR4 (Mg)</th>\n",
              "    </tr>\n",
              "  </thead>\n",
              "  <tbody>\n",
              "    <tr>\n",
              "      <th>0</th>\n",
              "      <td>FPSO Plat A</td>\n",
              "      <td>MEA/DEA</td>\n",
              "      <td>T-Z-1235001</td>\n",
              "      <td>2015</td>\n",
              "      <td>ABR 2015</td>\n",
              "      <td>2279.143017</td>\n",
              "    </tr>\n",
              "    <tr>\n",
              "      <th>1</th>\n",
              "      <td>FPSO Plat A</td>\n",
              "      <td>MEA/DEA</td>\n",
              "      <td>T-Z-1235001</td>\n",
              "      <td>2015</td>\n",
              "      <td>AGO 2015</td>\n",
              "      <td>8298.613180</td>\n",
              "    </tr>\n",
              "    <tr>\n",
              "      <th>2</th>\n",
              "      <td>FPSO Plat A</td>\n",
              "      <td>MEA/DEA</td>\n",
              "      <td>T-Z-1235001</td>\n",
              "      <td>2015</td>\n",
              "      <td>DEZ 2015</td>\n",
              "      <td>6083.260307</td>\n",
              "    </tr>\n",
              "    <tr>\n",
              "      <th>3</th>\n",
              "      <td>FPSO Plat A</td>\n",
              "      <td>MEA/DEA</td>\n",
              "      <td>T-Z-1235001</td>\n",
              "      <td>2015</td>\n",
              "      <td>FEV 2015</td>\n",
              "      <td>4703.897479</td>\n",
              "    </tr>\n",
              "    <tr>\n",
              "      <th>4</th>\n",
              "      <td>FPSO Plat A</td>\n",
              "      <td>MEA/DEA</td>\n",
              "      <td>T-Z-1235001</td>\n",
              "      <td>2015</td>\n",
              "      <td>JAN 2015</td>\n",
              "      <td>5695.723917</td>\n",
              "    </tr>\n",
              "  </tbody>\n",
              "</table>\n",
              "</div>"
            ],
            "text/plain": [
              "  07 - Instalação 11 - Tipo de Fonte  ... 20 - Mês/Ano  CO2e - AR4 (Mg)\n",
              "0     FPSO Plat A            MEA/DEA  ...     ABR 2015      2279.143017\n",
              "1     FPSO Plat A            MEA/DEA  ...     AGO 2015      8298.613180\n",
              "2     FPSO Plat A            MEA/DEA  ...     DEZ 2015      6083.260307\n",
              "3     FPSO Plat A            MEA/DEA  ...     FEV 2015      4703.897479\n",
              "4     FPSO Plat A            MEA/DEA  ...     JAN 2015      5695.723917\n",
              "\n",
              "[5 rows x 6 columns]"
            ]
          },
          "metadata": {
            "tags": []
          },
          "execution_count": 73
        }
      ]
    },
    {
      "cell_type": "markdown",
      "metadata": {
        "id": "vlQsqa1bRzHt"
      },
      "source": [
        "Queremos duas coisas: Ter uma nova coluna que indique o ano e mês do registro de emissão (2019-10, por exemplo), para que a série de dados fique na sequência. Posteriormente vamos separar os dataframes por tipo de fonte, para que cada fonte seja uma série de dados."
      ]
    },
    {
      "cell_type": "code",
      "metadata": {
        "colab": {
          "base_uri": "https://localhost:8080/"
        },
        "id": "Yhakwou1rWmv",
        "outputId": "c46d9283-47ac-4fa9-ca5d-2aadbe727b88"
      },
      "source": [
        "df_emissions['11 - Tipo de Fonte'].value_counts()"
      ],
      "execution_count": 74,
      "outputs": [
        {
          "output_type": "execute_result",
          "data": {
            "text/plain": [
              "Turbina                      460\n",
              "Motor                        213\n",
              "Tocha                        170\n",
              "Equipamento de Construção    114\n",
              "MEA/DEA                       60\n",
              "Desidratador a Glicol         60\n",
              "Fugitiva                      59\n",
              "Armazenamento de Petróleo     36\n",
              "Name: 11 - Tipo de Fonte, dtype: int64"
            ]
          },
          "metadata": {
            "tags": []
          },
          "execution_count": 74
        }
      ]
    },
    {
      "cell_type": "code",
      "metadata": {
        "colab": {
          "base_uri": "https://localhost:8080/"
        },
        "id": "Kofc2WnDGoZC",
        "outputId": "82e051cc-53e7-4e9f-c9a7-fc58530cbf7b"
      },
      "source": [
        "df_emissions['11 - Tipo de Fonte'].describe()"
      ],
      "execution_count": 78,
      "outputs": [
        {
          "output_type": "execute_result",
          "data": {
            "text/plain": [
              "count        1172\n",
              "unique          8\n",
              "top       Turbina\n",
              "freq          460\n",
              "Name: 11 - Tipo de Fonte, dtype: object"
            ]
          },
          "metadata": {
            "tags": []
          },
          "execution_count": 78
        }
      ]
    },
    {
      "cell_type": "code",
      "metadata": {
        "colab": {
          "base_uri": "https://localhost:8080/"
        },
        "id": "3m7YY7MjGF2Q",
        "outputId": "c4103569-0165-4f09-9a89-34bafd311203"
      },
      "source": [
        "df_emissions['14 - Fonte Emissora'].value_counts()"
      ],
      "execution_count": 79,
      "outputs": [
        {
          "output_type": "execute_result",
          "data": {
            "text/plain": [
              "T-Z-1235001                  60\n",
              "GE-5147001C                  60\n",
              "T-Z-1227001-01               60\n",
              "GE-5147001 B                 60\n",
              "GE-5147001 D                 60\n",
              "GE-5147001A                  60\n",
              "GD-5266001 B                 57\n",
              "GE-5147001 B Diesel          57\n",
              "GD-5266001 A                 57\n",
              "GE-5147001A Diesel           56\n",
              "FUGITIVAS GÁS                55\n",
              "MC-B-UB-5420001 A            55\n",
              "MC-B-UB-5420001 B            55\n",
              "GE-5147001D Diesel           54\n",
              "GE-5147001 D Diesel          53\n",
              "MC-GE-5261001                52\n",
              "MC-GE-5262001                51\n",
              "TOCHA HP/LP                  50\n",
              "QUEIMA DE PURGA              50\n",
              "QUEIMA PILOTO                50\n",
              "TQ PETRÓLEO Plat A           36\n",
              "TA-5412001 LP                10\n",
              "TA-5412001 HP                10\n",
              "FUGITIVAS PADROES MEDIDAS     4\n",
              "Name: 14 - Fonte Emissora, dtype: int64"
            ]
          },
          "metadata": {
            "tags": []
          },
          "execution_count": 79
        }
      ]
    },
    {
      "cell_type": "code",
      "metadata": {
        "colab": {
          "base_uri": "https://localhost:8080/"
        },
        "id": "CE-cIwzBGVNf",
        "outputId": "ddc1d949-27a0-4e54-b910-0a8b3b1f3a81"
      },
      "source": [
        "df_emissions['14 - Fonte Emissora'].describe()"
      ],
      "execution_count": 80,
      "outputs": [
        {
          "output_type": "execute_result",
          "data": {
            "text/plain": [
              "count            1172\n",
              "unique             24\n",
              "top       T-Z-1235001\n",
              "freq               60\n",
              "Name: 14 - Fonte Emissora, dtype: object"
            ]
          },
          "metadata": {
            "tags": []
          },
          "execution_count": 80
        }
      ]
    },
    {
      "cell_type": "markdown",
      "metadata": {
        "id": "80RPQzRyHTfz"
      },
      "source": [
        "Como visto na análise acima, a coluna '14 - Fonte Emissora' conta com 24 tipo de fontes. Já a coluna '11 - Tipo de Fonte' conta com 8 tipos. Minha ideia preliminar era realizar a análise de anomalia por Tipo de Fonte, no entanto vi que o mesmo tipo de fonte conta com mais de uma fonte emissora e os dados variam muito. Portanto a Análise deverá ser realizada po Fonte Emissora."
      ]
    },
    {
      "cell_type": "code",
      "metadata": {
        "colab": {
          "base_uri": "https://localhost:8080/"
        },
        "id": "_-PjsbAJQX_s",
        "outputId": "b4c24499-c56f-4957-c5f5-dabda429f5b4"
      },
      "source": [
        "df_emissions.info()"
      ],
      "execution_count": 81,
      "outputs": [
        {
          "output_type": "stream",
          "text": [
            "<class 'pandas.core.frame.DataFrame'>\n",
            "RangeIndex: 1172 entries, 0 to 1171\n",
            "Data columns (total 6 columns):\n",
            " #   Column               Non-Null Count  Dtype  \n",
            "---  ------               --------------  -----  \n",
            " 0   07 - Instalação      1172 non-null   object \n",
            " 1   11 - Tipo de Fonte   1172 non-null   object \n",
            " 2   14 - Fonte Emissora  1172 non-null   object \n",
            " 3   21 - Ano civil       1172 non-null   int64  \n",
            " 4   20 - Mês/Ano         1172 non-null   object \n",
            " 5   CO2e - AR4 (Mg)      1172 non-null   float64\n",
            "dtypes: float64(1), int64(1), object(4)\n",
            "memory usage: 55.1+ KB\n"
          ],
          "name": "stdout"
        }
      ]
    },
    {
      "cell_type": "markdown",
      "metadata": {
        "id": "HN4W3PVECT1d"
      },
      "source": [
        "Vamos dividir a coluna \"20 - Mês/Ano\" e pegar só o valor do mês para uma nova coluna:"
      ]
    },
    {
      "cell_type": "code",
      "metadata": {
        "id": "oJoSXJHzdbt9"
      },
      "source": [
        "divisao = df_emissions['20 - Mês/Ano'].str.split(' ')"
      ],
      "execution_count": 82,
      "outputs": []
    },
    {
      "cell_type": "code",
      "metadata": {
        "colab": {
          "base_uri": "https://localhost:8080/"
        },
        "id": "uYkKLGXBQwpF",
        "outputId": "bb846abe-a444-442c-ad9b-4dc7d42f8239"
      },
      "source": [
        "divisao.head()"
      ],
      "execution_count": 83,
      "outputs": [
        {
          "output_type": "execute_result",
          "data": {
            "text/plain": [
              "0    [ABR, 2015]\n",
              "1    [AGO, 2015]\n",
              "2    [DEZ, 2015]\n",
              "3    [FEV, 2015]\n",
              "4    [JAN, 2015]\n",
              "Name: 20 - Mês/Ano, dtype: object"
            ]
          },
          "metadata": {
            "tags": []
          },
          "execution_count": 83
        }
      ]
    },
    {
      "cell_type": "code",
      "metadata": {
        "id": "iurdsBWiY53F"
      },
      "source": [
        "mes = divisao.str.get(0)"
      ],
      "execution_count": 84,
      "outputs": []
    },
    {
      "cell_type": "code",
      "metadata": {
        "id": "1YoxdonWjpic"
      },
      "source": [
        "df_emissions['Mês'] = mes"
      ],
      "execution_count": 85,
      "outputs": []
    },
    {
      "cell_type": "code",
      "metadata": {
        "colab": {
          "base_uri": "https://localhost:8080/",
          "height": 197
        },
        "id": "u-IlJOxbXvLd",
        "outputId": "111ce2c7-4a0e-4363-ec0e-983c4d5affde"
      },
      "source": [
        "df_emissions.head()"
      ],
      "execution_count": 86,
      "outputs": [
        {
          "output_type": "execute_result",
          "data": {
            "text/html": [
              "<div>\n",
              "<style scoped>\n",
              "    .dataframe tbody tr th:only-of-type {\n",
              "        vertical-align: middle;\n",
              "    }\n",
              "\n",
              "    .dataframe tbody tr th {\n",
              "        vertical-align: top;\n",
              "    }\n",
              "\n",
              "    .dataframe thead th {\n",
              "        text-align: right;\n",
              "    }\n",
              "</style>\n",
              "<table border=\"1\" class=\"dataframe\">\n",
              "  <thead>\n",
              "    <tr style=\"text-align: right;\">\n",
              "      <th></th>\n",
              "      <th>07 - Instalação</th>\n",
              "      <th>11 - Tipo de Fonte</th>\n",
              "      <th>14 - Fonte Emissora</th>\n",
              "      <th>21 - Ano civil</th>\n",
              "      <th>20 - Mês/Ano</th>\n",
              "      <th>CO2e - AR4 (Mg)</th>\n",
              "      <th>Mês</th>\n",
              "    </tr>\n",
              "  </thead>\n",
              "  <tbody>\n",
              "    <tr>\n",
              "      <th>0</th>\n",
              "      <td>FPSO Plat A</td>\n",
              "      <td>MEA/DEA</td>\n",
              "      <td>T-Z-1235001</td>\n",
              "      <td>2015</td>\n",
              "      <td>ABR 2015</td>\n",
              "      <td>2279.143017</td>\n",
              "      <td>ABR</td>\n",
              "    </tr>\n",
              "    <tr>\n",
              "      <th>1</th>\n",
              "      <td>FPSO Plat A</td>\n",
              "      <td>MEA/DEA</td>\n",
              "      <td>T-Z-1235001</td>\n",
              "      <td>2015</td>\n",
              "      <td>AGO 2015</td>\n",
              "      <td>8298.613180</td>\n",
              "      <td>AGO</td>\n",
              "    </tr>\n",
              "    <tr>\n",
              "      <th>2</th>\n",
              "      <td>FPSO Plat A</td>\n",
              "      <td>MEA/DEA</td>\n",
              "      <td>T-Z-1235001</td>\n",
              "      <td>2015</td>\n",
              "      <td>DEZ 2015</td>\n",
              "      <td>6083.260307</td>\n",
              "      <td>DEZ</td>\n",
              "    </tr>\n",
              "    <tr>\n",
              "      <th>3</th>\n",
              "      <td>FPSO Plat A</td>\n",
              "      <td>MEA/DEA</td>\n",
              "      <td>T-Z-1235001</td>\n",
              "      <td>2015</td>\n",
              "      <td>FEV 2015</td>\n",
              "      <td>4703.897479</td>\n",
              "      <td>FEV</td>\n",
              "    </tr>\n",
              "    <tr>\n",
              "      <th>4</th>\n",
              "      <td>FPSO Plat A</td>\n",
              "      <td>MEA/DEA</td>\n",
              "      <td>T-Z-1235001</td>\n",
              "      <td>2015</td>\n",
              "      <td>JAN 2015</td>\n",
              "      <td>5695.723917</td>\n",
              "      <td>JAN</td>\n",
              "    </tr>\n",
              "  </tbody>\n",
              "</table>\n",
              "</div>"
            ],
            "text/plain": [
              "  07 - Instalação 11 - Tipo de Fonte  ... CO2e - AR4 (Mg)  Mês\n",
              "0     FPSO Plat A            MEA/DEA  ...     2279.143017  ABR\n",
              "1     FPSO Plat A            MEA/DEA  ...     8298.613180  AGO\n",
              "2     FPSO Plat A            MEA/DEA  ...     6083.260307  DEZ\n",
              "3     FPSO Plat A            MEA/DEA  ...     4703.897479  FEV\n",
              "4     FPSO Plat A            MEA/DEA  ...     5695.723917  JAN\n",
              "\n",
              "[5 rows x 7 columns]"
            ]
          },
          "metadata": {
            "tags": []
          },
          "execution_count": 86
        }
      ]
    },
    {
      "cell_type": "markdown",
      "metadata": {
        "id": "xI3e7GShCuho"
      },
      "source": [
        "Agora, vamos substituir os meses do formato com letras para números inteiros:"
      ]
    },
    {
      "cell_type": "code",
      "metadata": {
        "id": "a9STRJLOkGpr"
      },
      "source": [
        "df_emissions['Mês'].replace({'JAN':\"01\", \"FEV\":\"02\", 'MAR':'03', 'ABR':'04', 'MAI':'05', 'JUN':'06', 'JUL':'07', 'AGO':'08', 'SET':'09', 'OUT':'10', 'NOV':'11', 'DEZ':'12'}, inplace=True)"
      ],
      "execution_count": 87,
      "outputs": []
    },
    {
      "cell_type": "code",
      "metadata": {
        "colab": {
          "base_uri": "https://localhost:8080/",
          "height": 197
        },
        "id": "_PVx7QjFlz2N",
        "outputId": "c211497d-e3d8-4b7d-8727-8b689e70d888"
      },
      "source": [
        "df_emissions.head()"
      ],
      "execution_count": 88,
      "outputs": [
        {
          "output_type": "execute_result",
          "data": {
            "text/html": [
              "<div>\n",
              "<style scoped>\n",
              "    .dataframe tbody tr th:only-of-type {\n",
              "        vertical-align: middle;\n",
              "    }\n",
              "\n",
              "    .dataframe tbody tr th {\n",
              "        vertical-align: top;\n",
              "    }\n",
              "\n",
              "    .dataframe thead th {\n",
              "        text-align: right;\n",
              "    }\n",
              "</style>\n",
              "<table border=\"1\" class=\"dataframe\">\n",
              "  <thead>\n",
              "    <tr style=\"text-align: right;\">\n",
              "      <th></th>\n",
              "      <th>07 - Instalação</th>\n",
              "      <th>11 - Tipo de Fonte</th>\n",
              "      <th>14 - Fonte Emissora</th>\n",
              "      <th>21 - Ano civil</th>\n",
              "      <th>20 - Mês/Ano</th>\n",
              "      <th>CO2e - AR4 (Mg)</th>\n",
              "      <th>Mês</th>\n",
              "    </tr>\n",
              "  </thead>\n",
              "  <tbody>\n",
              "    <tr>\n",
              "      <th>0</th>\n",
              "      <td>FPSO Plat A</td>\n",
              "      <td>MEA/DEA</td>\n",
              "      <td>T-Z-1235001</td>\n",
              "      <td>2015</td>\n",
              "      <td>ABR 2015</td>\n",
              "      <td>2279.143017</td>\n",
              "      <td>04</td>\n",
              "    </tr>\n",
              "    <tr>\n",
              "      <th>1</th>\n",
              "      <td>FPSO Plat A</td>\n",
              "      <td>MEA/DEA</td>\n",
              "      <td>T-Z-1235001</td>\n",
              "      <td>2015</td>\n",
              "      <td>AGO 2015</td>\n",
              "      <td>8298.613180</td>\n",
              "      <td>08</td>\n",
              "    </tr>\n",
              "    <tr>\n",
              "      <th>2</th>\n",
              "      <td>FPSO Plat A</td>\n",
              "      <td>MEA/DEA</td>\n",
              "      <td>T-Z-1235001</td>\n",
              "      <td>2015</td>\n",
              "      <td>DEZ 2015</td>\n",
              "      <td>6083.260307</td>\n",
              "      <td>12</td>\n",
              "    </tr>\n",
              "    <tr>\n",
              "      <th>3</th>\n",
              "      <td>FPSO Plat A</td>\n",
              "      <td>MEA/DEA</td>\n",
              "      <td>T-Z-1235001</td>\n",
              "      <td>2015</td>\n",
              "      <td>FEV 2015</td>\n",
              "      <td>4703.897479</td>\n",
              "      <td>02</td>\n",
              "    </tr>\n",
              "    <tr>\n",
              "      <th>4</th>\n",
              "      <td>FPSO Plat A</td>\n",
              "      <td>MEA/DEA</td>\n",
              "      <td>T-Z-1235001</td>\n",
              "      <td>2015</td>\n",
              "      <td>JAN 2015</td>\n",
              "      <td>5695.723917</td>\n",
              "      <td>01</td>\n",
              "    </tr>\n",
              "  </tbody>\n",
              "</table>\n",
              "</div>"
            ],
            "text/plain": [
              "  07 - Instalação 11 - Tipo de Fonte  ... CO2e - AR4 (Mg)  Mês\n",
              "0     FPSO Plat A            MEA/DEA  ...     2279.143017   04\n",
              "1     FPSO Plat A            MEA/DEA  ...     8298.613180   08\n",
              "2     FPSO Plat A            MEA/DEA  ...     6083.260307   12\n",
              "3     FPSO Plat A            MEA/DEA  ...     4703.897479   02\n",
              "4     FPSO Plat A            MEA/DEA  ...     5695.723917   01\n",
              "\n",
              "[5 rows x 7 columns]"
            ]
          },
          "metadata": {
            "tags": []
          },
          "execution_count": 88
        }
      ]
    },
    {
      "cell_type": "markdown",
      "metadata": {
        "id": "FGT6OMvPC97i"
      },
      "source": [
        "Vamos juntar em uma só coluna o ano e mês em formato \"numérico\""
      ]
    },
    {
      "cell_type": "code",
      "metadata": {
        "id": "1JDdjiWJueGD"
      },
      "source": [
        "df_emissions['Ano-Mes'] = df_emissions['21 - Ano civil'].astype(str).add('-') + df_emissions['Mês']"
      ],
      "execution_count": 89,
      "outputs": []
    },
    {
      "cell_type": "code",
      "metadata": {
        "colab": {
          "base_uri": "https://localhost:8080/",
          "height": 197
        },
        "id": "C9G45m0wuyTA",
        "outputId": "c55f43d4-6fb6-4f74-9e1c-8ddd724efd58"
      },
      "source": [
        "df_emissions.head()"
      ],
      "execution_count": 90,
      "outputs": [
        {
          "output_type": "execute_result",
          "data": {
            "text/html": [
              "<div>\n",
              "<style scoped>\n",
              "    .dataframe tbody tr th:only-of-type {\n",
              "        vertical-align: middle;\n",
              "    }\n",
              "\n",
              "    .dataframe tbody tr th {\n",
              "        vertical-align: top;\n",
              "    }\n",
              "\n",
              "    .dataframe thead th {\n",
              "        text-align: right;\n",
              "    }\n",
              "</style>\n",
              "<table border=\"1\" class=\"dataframe\">\n",
              "  <thead>\n",
              "    <tr style=\"text-align: right;\">\n",
              "      <th></th>\n",
              "      <th>07 - Instalação</th>\n",
              "      <th>11 - Tipo de Fonte</th>\n",
              "      <th>14 - Fonte Emissora</th>\n",
              "      <th>21 - Ano civil</th>\n",
              "      <th>20 - Mês/Ano</th>\n",
              "      <th>CO2e - AR4 (Mg)</th>\n",
              "      <th>Mês</th>\n",
              "      <th>Ano-Mes</th>\n",
              "    </tr>\n",
              "  </thead>\n",
              "  <tbody>\n",
              "    <tr>\n",
              "      <th>0</th>\n",
              "      <td>FPSO Plat A</td>\n",
              "      <td>MEA/DEA</td>\n",
              "      <td>T-Z-1235001</td>\n",
              "      <td>2015</td>\n",
              "      <td>ABR 2015</td>\n",
              "      <td>2279.143017</td>\n",
              "      <td>04</td>\n",
              "      <td>2015-04</td>\n",
              "    </tr>\n",
              "    <tr>\n",
              "      <th>1</th>\n",
              "      <td>FPSO Plat A</td>\n",
              "      <td>MEA/DEA</td>\n",
              "      <td>T-Z-1235001</td>\n",
              "      <td>2015</td>\n",
              "      <td>AGO 2015</td>\n",
              "      <td>8298.613180</td>\n",
              "      <td>08</td>\n",
              "      <td>2015-08</td>\n",
              "    </tr>\n",
              "    <tr>\n",
              "      <th>2</th>\n",
              "      <td>FPSO Plat A</td>\n",
              "      <td>MEA/DEA</td>\n",
              "      <td>T-Z-1235001</td>\n",
              "      <td>2015</td>\n",
              "      <td>DEZ 2015</td>\n",
              "      <td>6083.260307</td>\n",
              "      <td>12</td>\n",
              "      <td>2015-12</td>\n",
              "    </tr>\n",
              "    <tr>\n",
              "      <th>3</th>\n",
              "      <td>FPSO Plat A</td>\n",
              "      <td>MEA/DEA</td>\n",
              "      <td>T-Z-1235001</td>\n",
              "      <td>2015</td>\n",
              "      <td>FEV 2015</td>\n",
              "      <td>4703.897479</td>\n",
              "      <td>02</td>\n",
              "      <td>2015-02</td>\n",
              "    </tr>\n",
              "    <tr>\n",
              "      <th>4</th>\n",
              "      <td>FPSO Plat A</td>\n",
              "      <td>MEA/DEA</td>\n",
              "      <td>T-Z-1235001</td>\n",
              "      <td>2015</td>\n",
              "      <td>JAN 2015</td>\n",
              "      <td>5695.723917</td>\n",
              "      <td>01</td>\n",
              "      <td>2015-01</td>\n",
              "    </tr>\n",
              "  </tbody>\n",
              "</table>\n",
              "</div>"
            ],
            "text/plain": [
              "  07 - Instalação 11 - Tipo de Fonte  ... Mês  Ano-Mes\n",
              "0     FPSO Plat A            MEA/DEA  ...  04  2015-04\n",
              "1     FPSO Plat A            MEA/DEA  ...  08  2015-08\n",
              "2     FPSO Plat A            MEA/DEA  ...  12  2015-12\n",
              "3     FPSO Plat A            MEA/DEA  ...  02  2015-02\n",
              "4     FPSO Plat A            MEA/DEA  ...  01  2015-01\n",
              "\n",
              "[5 rows x 8 columns]"
            ]
          },
          "metadata": {
            "tags": []
          },
          "execution_count": 90
        }
      ]
    },
    {
      "cell_type": "code",
      "metadata": {
        "colab": {
          "base_uri": "https://localhost:8080/"
        },
        "id": "YVXrb6ga11Og",
        "outputId": "80e386c3-b29a-443f-cc73-60537ed512c8"
      },
      "source": [
        "df_emissions.info()"
      ],
      "execution_count": 91,
      "outputs": [
        {
          "output_type": "stream",
          "text": [
            "<class 'pandas.core.frame.DataFrame'>\n",
            "RangeIndex: 1172 entries, 0 to 1171\n",
            "Data columns (total 8 columns):\n",
            " #   Column               Non-Null Count  Dtype  \n",
            "---  ------               --------------  -----  \n",
            " 0   07 - Instalação      1172 non-null   object \n",
            " 1   11 - Tipo de Fonte   1172 non-null   object \n",
            " 2   14 - Fonte Emissora  1172 non-null   object \n",
            " 3   21 - Ano civil       1172 non-null   int64  \n",
            " 4   20 - Mês/Ano         1172 non-null   object \n",
            " 5   CO2e - AR4 (Mg)      1172 non-null   float64\n",
            " 6   Mês                  1172 non-null   object \n",
            " 7   Ano-Mes              1172 non-null   object \n",
            "dtypes: float64(1), int64(1), object(6)\n",
            "memory usage: 73.4+ KB\n"
          ],
          "name": "stdout"
        }
      ]
    },
    {
      "cell_type": "markdown",
      "metadata": {
        "id": "9P-AcwZr27kQ"
      },
      "source": [
        "###Como a data está em formato de série, tenho que convertê-la para date:"
      ]
    },
    {
      "cell_type": "code",
      "metadata": {
        "colab": {
          "base_uri": "https://localhost:8080/"
        },
        "id": "D0W7qaG5B9Mv",
        "outputId": "c7593e26-239d-44bf-9318-7030eb4e58bc"
      },
      "source": [
        "type(df_emissions['Ano-Mes'])"
      ],
      "execution_count": 92,
      "outputs": [
        {
          "output_type": "execute_result",
          "data": {
            "text/plain": [
              "pandas.core.series.Series"
            ]
          },
          "metadata": {
            "tags": []
          },
          "execution_count": 92
        }
      ]
    },
    {
      "cell_type": "code",
      "metadata": {
        "id": "CYyxyeCL11kz"
      },
      "source": [
        "df_emissions['Ano-Mes'] = pd.to_datetime(df_emissions['Ano-Mes'])"
      ],
      "execution_count": 93,
      "outputs": []
    },
    {
      "cell_type": "code",
      "metadata": {
        "colab": {
          "base_uri": "https://localhost:8080/",
          "height": 197
        },
        "id": "LE82CcJDBCv7",
        "outputId": "8f65bb41-d25d-4a8e-a3bf-f611cc7eb31e"
      },
      "source": [
        "df_emissions.head()"
      ],
      "execution_count": 94,
      "outputs": [
        {
          "output_type": "execute_result",
          "data": {
            "text/html": [
              "<div>\n",
              "<style scoped>\n",
              "    .dataframe tbody tr th:only-of-type {\n",
              "        vertical-align: middle;\n",
              "    }\n",
              "\n",
              "    .dataframe tbody tr th {\n",
              "        vertical-align: top;\n",
              "    }\n",
              "\n",
              "    .dataframe thead th {\n",
              "        text-align: right;\n",
              "    }\n",
              "</style>\n",
              "<table border=\"1\" class=\"dataframe\">\n",
              "  <thead>\n",
              "    <tr style=\"text-align: right;\">\n",
              "      <th></th>\n",
              "      <th>07 - Instalação</th>\n",
              "      <th>11 - Tipo de Fonte</th>\n",
              "      <th>14 - Fonte Emissora</th>\n",
              "      <th>21 - Ano civil</th>\n",
              "      <th>20 - Mês/Ano</th>\n",
              "      <th>CO2e - AR4 (Mg)</th>\n",
              "      <th>Mês</th>\n",
              "      <th>Ano-Mes</th>\n",
              "    </tr>\n",
              "  </thead>\n",
              "  <tbody>\n",
              "    <tr>\n",
              "      <th>0</th>\n",
              "      <td>FPSO Plat A</td>\n",
              "      <td>MEA/DEA</td>\n",
              "      <td>T-Z-1235001</td>\n",
              "      <td>2015</td>\n",
              "      <td>ABR 2015</td>\n",
              "      <td>2279.143017</td>\n",
              "      <td>04</td>\n",
              "      <td>2015-04-01</td>\n",
              "    </tr>\n",
              "    <tr>\n",
              "      <th>1</th>\n",
              "      <td>FPSO Plat A</td>\n",
              "      <td>MEA/DEA</td>\n",
              "      <td>T-Z-1235001</td>\n",
              "      <td>2015</td>\n",
              "      <td>AGO 2015</td>\n",
              "      <td>8298.613180</td>\n",
              "      <td>08</td>\n",
              "      <td>2015-08-01</td>\n",
              "    </tr>\n",
              "    <tr>\n",
              "      <th>2</th>\n",
              "      <td>FPSO Plat A</td>\n",
              "      <td>MEA/DEA</td>\n",
              "      <td>T-Z-1235001</td>\n",
              "      <td>2015</td>\n",
              "      <td>DEZ 2015</td>\n",
              "      <td>6083.260307</td>\n",
              "      <td>12</td>\n",
              "      <td>2015-12-01</td>\n",
              "    </tr>\n",
              "    <tr>\n",
              "      <th>3</th>\n",
              "      <td>FPSO Plat A</td>\n",
              "      <td>MEA/DEA</td>\n",
              "      <td>T-Z-1235001</td>\n",
              "      <td>2015</td>\n",
              "      <td>FEV 2015</td>\n",
              "      <td>4703.897479</td>\n",
              "      <td>02</td>\n",
              "      <td>2015-02-01</td>\n",
              "    </tr>\n",
              "    <tr>\n",
              "      <th>4</th>\n",
              "      <td>FPSO Plat A</td>\n",
              "      <td>MEA/DEA</td>\n",
              "      <td>T-Z-1235001</td>\n",
              "      <td>2015</td>\n",
              "      <td>JAN 2015</td>\n",
              "      <td>5695.723917</td>\n",
              "      <td>01</td>\n",
              "      <td>2015-01-01</td>\n",
              "    </tr>\n",
              "  </tbody>\n",
              "</table>\n",
              "</div>"
            ],
            "text/plain": [
              "  07 - Instalação 11 - Tipo de Fonte  ... Mês    Ano-Mes\n",
              "0     FPSO Plat A            MEA/DEA  ...  04 2015-04-01\n",
              "1     FPSO Plat A            MEA/DEA  ...  08 2015-08-01\n",
              "2     FPSO Plat A            MEA/DEA  ...  12 2015-12-01\n",
              "3     FPSO Plat A            MEA/DEA  ...  02 2015-02-01\n",
              "4     FPSO Plat A            MEA/DEA  ...  01 2015-01-01\n",
              "\n",
              "[5 rows x 8 columns]"
            ]
          },
          "metadata": {
            "tags": []
          },
          "execution_count": 94
        }
      ]
    },
    {
      "cell_type": "code",
      "metadata": {
        "colab": {
          "base_uri": "https://localhost:8080/"
        },
        "id": "KlVQxw2Z2A7a",
        "outputId": "aa86964e-8971-414c-ae48-4f831ed901d2"
      },
      "source": [
        "df_emissions.info()"
      ],
      "execution_count": 95,
      "outputs": [
        {
          "output_type": "stream",
          "text": [
            "<class 'pandas.core.frame.DataFrame'>\n",
            "RangeIndex: 1172 entries, 0 to 1171\n",
            "Data columns (total 8 columns):\n",
            " #   Column               Non-Null Count  Dtype         \n",
            "---  ------               --------------  -----         \n",
            " 0   07 - Instalação      1172 non-null   object        \n",
            " 1   11 - Tipo de Fonte   1172 non-null   object        \n",
            " 2   14 - Fonte Emissora  1172 non-null   object        \n",
            " 3   21 - Ano civil       1172 non-null   int64         \n",
            " 4   20 - Mês/Ano         1172 non-null   object        \n",
            " 5   CO2e - AR4 (Mg)      1172 non-null   float64       \n",
            " 6   Mês                  1172 non-null   object        \n",
            " 7   Ano-Mes              1172 non-null   datetime64[ns]\n",
            "dtypes: datetime64[ns](1), float64(1), int64(1), object(5)\n",
            "memory usage: 73.4+ KB\n"
          ],
          "name": "stdout"
        }
      ]
    },
    {
      "cell_type": "markdown",
      "metadata": {
        "id": "DfOjI1T9Eb72"
      },
      "source": [
        "Agora, vamos criar um novo dataframe com a primeira Fonte Emissora que vamos analisar."
      ]
    },
    {
      "cell_type": "code",
      "metadata": {
        "id": "XXxH84NAMhzJ"
      },
      "source": [
        "df_fonte1= df_emissions.loc[df_emissions['14 - Fonte Emissora']=='T-Z-1235001']"
      ],
      "execution_count": 96,
      "outputs": []
    },
    {
      "cell_type": "code",
      "metadata": {
        "colab": {
          "base_uri": "https://localhost:8080/",
          "height": 197
        },
        "id": "vlcixsLcNXsV",
        "outputId": "513abb52-d152-416a-c0f7-61582835c315"
      },
      "source": [
        "df_fonte1.head()"
      ],
      "execution_count": 97,
      "outputs": [
        {
          "output_type": "execute_result",
          "data": {
            "text/html": [
              "<div>\n",
              "<style scoped>\n",
              "    .dataframe tbody tr th:only-of-type {\n",
              "        vertical-align: middle;\n",
              "    }\n",
              "\n",
              "    .dataframe tbody tr th {\n",
              "        vertical-align: top;\n",
              "    }\n",
              "\n",
              "    .dataframe thead th {\n",
              "        text-align: right;\n",
              "    }\n",
              "</style>\n",
              "<table border=\"1\" class=\"dataframe\">\n",
              "  <thead>\n",
              "    <tr style=\"text-align: right;\">\n",
              "      <th></th>\n",
              "      <th>07 - Instalação</th>\n",
              "      <th>11 - Tipo de Fonte</th>\n",
              "      <th>14 - Fonte Emissora</th>\n",
              "      <th>21 - Ano civil</th>\n",
              "      <th>20 - Mês/Ano</th>\n",
              "      <th>CO2e - AR4 (Mg)</th>\n",
              "      <th>Mês</th>\n",
              "      <th>Ano-Mes</th>\n",
              "    </tr>\n",
              "  </thead>\n",
              "  <tbody>\n",
              "    <tr>\n",
              "      <th>0</th>\n",
              "      <td>FPSO Plat A</td>\n",
              "      <td>MEA/DEA</td>\n",
              "      <td>T-Z-1235001</td>\n",
              "      <td>2015</td>\n",
              "      <td>ABR 2015</td>\n",
              "      <td>2279.143017</td>\n",
              "      <td>04</td>\n",
              "      <td>2015-04-01</td>\n",
              "    </tr>\n",
              "    <tr>\n",
              "      <th>1</th>\n",
              "      <td>FPSO Plat A</td>\n",
              "      <td>MEA/DEA</td>\n",
              "      <td>T-Z-1235001</td>\n",
              "      <td>2015</td>\n",
              "      <td>AGO 2015</td>\n",
              "      <td>8298.613180</td>\n",
              "      <td>08</td>\n",
              "      <td>2015-08-01</td>\n",
              "    </tr>\n",
              "    <tr>\n",
              "      <th>2</th>\n",
              "      <td>FPSO Plat A</td>\n",
              "      <td>MEA/DEA</td>\n",
              "      <td>T-Z-1235001</td>\n",
              "      <td>2015</td>\n",
              "      <td>DEZ 2015</td>\n",
              "      <td>6083.260307</td>\n",
              "      <td>12</td>\n",
              "      <td>2015-12-01</td>\n",
              "    </tr>\n",
              "    <tr>\n",
              "      <th>3</th>\n",
              "      <td>FPSO Plat A</td>\n",
              "      <td>MEA/DEA</td>\n",
              "      <td>T-Z-1235001</td>\n",
              "      <td>2015</td>\n",
              "      <td>FEV 2015</td>\n",
              "      <td>4703.897479</td>\n",
              "      <td>02</td>\n",
              "      <td>2015-02-01</td>\n",
              "    </tr>\n",
              "    <tr>\n",
              "      <th>4</th>\n",
              "      <td>FPSO Plat A</td>\n",
              "      <td>MEA/DEA</td>\n",
              "      <td>T-Z-1235001</td>\n",
              "      <td>2015</td>\n",
              "      <td>JAN 2015</td>\n",
              "      <td>5695.723917</td>\n",
              "      <td>01</td>\n",
              "      <td>2015-01-01</td>\n",
              "    </tr>\n",
              "  </tbody>\n",
              "</table>\n",
              "</div>"
            ],
            "text/plain": [
              "  07 - Instalação 11 - Tipo de Fonte  ... Mês    Ano-Mes\n",
              "0     FPSO Plat A            MEA/DEA  ...  04 2015-04-01\n",
              "1     FPSO Plat A            MEA/DEA  ...  08 2015-08-01\n",
              "2     FPSO Plat A            MEA/DEA  ...  12 2015-12-01\n",
              "3     FPSO Plat A            MEA/DEA  ...  02 2015-02-01\n",
              "4     FPSO Plat A            MEA/DEA  ...  01 2015-01-01\n",
              "\n",
              "[5 rows x 8 columns]"
            ]
          },
          "metadata": {
            "tags": []
          },
          "execution_count": 97
        }
      ]
    },
    {
      "cell_type": "markdown",
      "metadata": {
        "id": "nS8JNk6IfGb4"
      },
      "source": [
        "Colocando os dados em ordem crescente de data:"
      ]
    },
    {
      "cell_type": "code",
      "metadata": {
        "id": "GWliO5k4c-m7"
      },
      "source": [
        "df_fonte1 = df_fonte1.sort_values('Ano-Mes')"
      ],
      "execution_count": 124,
      "outputs": []
    },
    {
      "cell_type": "code",
      "metadata": {
        "id": "Wb1K24cFaua-"
      },
      "source": [
        "df_fonte1_ = pd.DataFrame(df_fonte1, columns=['Ano-Mes','CO2e - AR4 (Mg)'])"
      ],
      "execution_count": 125,
      "outputs": []
    },
    {
      "cell_type": "code",
      "metadata": {
        "colab": {
          "base_uri": "https://localhost:8080/",
          "height": 197
        },
        "id": "9ea399ycbQdy",
        "outputId": "6b1aeabc-3b91-441c-b1ad-697ce72e4763"
      },
      "source": [
        "df_fonte1_.head()"
      ],
      "execution_count": 126,
      "outputs": [
        {
          "output_type": "execute_result",
          "data": {
            "text/html": [
              "<div>\n",
              "<style scoped>\n",
              "    .dataframe tbody tr th:only-of-type {\n",
              "        vertical-align: middle;\n",
              "    }\n",
              "\n",
              "    .dataframe tbody tr th {\n",
              "        vertical-align: top;\n",
              "    }\n",
              "\n",
              "    .dataframe thead th {\n",
              "        text-align: right;\n",
              "    }\n",
              "</style>\n",
              "<table border=\"1\" class=\"dataframe\">\n",
              "  <thead>\n",
              "    <tr style=\"text-align: right;\">\n",
              "      <th></th>\n",
              "      <th>Ano-Mes</th>\n",
              "      <th>CO2e - AR4 (Mg)</th>\n",
              "    </tr>\n",
              "  </thead>\n",
              "  <tbody>\n",
              "    <tr>\n",
              "      <th>4</th>\n",
              "      <td>2015-01-01</td>\n",
              "      <td>5695.723917</td>\n",
              "    </tr>\n",
              "    <tr>\n",
              "      <th>3</th>\n",
              "      <td>2015-02-01</td>\n",
              "      <td>4703.897479</td>\n",
              "    </tr>\n",
              "    <tr>\n",
              "      <th>8</th>\n",
              "      <td>2015-03-01</td>\n",
              "      <td>3148.262873</td>\n",
              "    </tr>\n",
              "    <tr>\n",
              "      <th>0</th>\n",
              "      <td>2015-04-01</td>\n",
              "      <td>2279.143017</td>\n",
              "    </tr>\n",
              "    <tr>\n",
              "      <th>7</th>\n",
              "      <td>2015-05-01</td>\n",
              "      <td>3696.974132</td>\n",
              "    </tr>\n",
              "  </tbody>\n",
              "</table>\n",
              "</div>"
            ],
            "text/plain": [
              "     Ano-Mes  CO2e - AR4 (Mg)\n",
              "4 2015-01-01      5695.723917\n",
              "3 2015-02-01      4703.897479\n",
              "8 2015-03-01      3148.262873\n",
              "0 2015-04-01      2279.143017\n",
              "7 2015-05-01      3696.974132"
            ]
          },
          "metadata": {
            "tags": []
          },
          "execution_count": 126
        }
      ]
    },
    {
      "cell_type": "code",
      "metadata": {
        "id": "UyfofGobp2oO"
      },
      "source": [
        "newdf_fonte1 = pd.read_csv('fonte1.csv', parse_dates=True, index_col=0)"
      ],
      "execution_count": 128,
      "outputs": []
    },
    {
      "cell_type": "code",
      "metadata": {
        "colab": {
          "base_uri": "https://localhost:8080/",
          "height": 227
        },
        "id": "UahA4H1dqGnK",
        "outputId": "e0cd0db3-5aa7-4263-d8c4-272101d5804c"
      },
      "source": [
        "newdf_fonte1.head()"
      ],
      "execution_count": 129,
      "outputs": [
        {
          "output_type": "execute_result",
          "data": {
            "text/html": [
              "<div>\n",
              "<style scoped>\n",
              "    .dataframe tbody tr th:only-of-type {\n",
              "        vertical-align: middle;\n",
              "    }\n",
              "\n",
              "    .dataframe tbody tr th {\n",
              "        vertical-align: top;\n",
              "    }\n",
              "\n",
              "    .dataframe thead th {\n",
              "        text-align: right;\n",
              "    }\n",
              "</style>\n",
              "<table border=\"1\" class=\"dataframe\">\n",
              "  <thead>\n",
              "    <tr style=\"text-align: right;\">\n",
              "      <th></th>\n",
              "      <th>CO2e - AR4 (Mg)</th>\n",
              "    </tr>\n",
              "    <tr>\n",
              "      <th>Ano-Mes</th>\n",
              "      <th></th>\n",
              "    </tr>\n",
              "  </thead>\n",
              "  <tbody>\n",
              "    <tr>\n",
              "      <th>2015-01-01</th>\n",
              "      <td>5695.723917</td>\n",
              "    </tr>\n",
              "    <tr>\n",
              "      <th>2015-02-01</th>\n",
              "      <td>4703.897479</td>\n",
              "    </tr>\n",
              "    <tr>\n",
              "      <th>2015-03-01</th>\n",
              "      <td>3148.262873</td>\n",
              "    </tr>\n",
              "    <tr>\n",
              "      <th>2015-04-01</th>\n",
              "      <td>2279.143017</td>\n",
              "    </tr>\n",
              "    <tr>\n",
              "      <th>2015-05-01</th>\n",
              "      <td>3696.974132</td>\n",
              "    </tr>\n",
              "  </tbody>\n",
              "</table>\n",
              "</div>"
            ],
            "text/plain": [
              "            CO2e - AR4 (Mg)\n",
              "Ano-Mes                    \n",
              "2015-01-01      5695.723917\n",
              "2015-02-01      4703.897479\n",
              "2015-03-01      3148.262873\n",
              "2015-04-01      2279.143017\n",
              "2015-05-01      3696.974132"
            ]
          },
          "metadata": {
            "tags": []
          },
          "execution_count": 129
        }
      ]
    },
    {
      "cell_type": "code",
      "metadata": {
        "colab": {
          "base_uri": "https://localhost:8080/"
        },
        "id": "Sa72c_yVJp2h",
        "outputId": "ac712ff6-bf1b-46dc-c734-bcc357fea76a"
      },
      "source": [
        "newdf_fonte1['CO2e - AR4 (Mg)'].describe()"
      ],
      "execution_count": 130,
      "outputs": [
        {
          "output_type": "execute_result",
          "data": {
            "text/plain": [
              "count       60.000000\n",
              "mean      8008.698108\n",
              "std       2009.786665\n",
              "min       2279.143017\n",
              "25%       7134.415966\n",
              "50%       8382.004994\n",
              "75%       9687.160768\n",
              "max      10384.143120\n",
              "Name: CO2e - AR4 (Mg), dtype: float64"
            ]
          },
          "metadata": {
            "tags": []
          },
          "execution_count": 130
        }
      ]
    },
    {
      "cell_type": "code",
      "metadata": {
        "colab": {
          "base_uri": "https://localhost:8080/",
          "height": 456
        },
        "id": "FapZQXFxEs54",
        "outputId": "be811425-eb6c-4a0d-fac2-53c80d66d4b7"
      },
      "source": [
        "plt.figure(dpi=120)\r\n",
        "newdf_fonte1.plot(ax=plt.gca())\r\n",
        "plt.show();"
      ],
      "execution_count": 133,
      "outputs": [
        {
          "output_type": "display_data",
          "data": {
            "image/png": "[encoded data removed]",
            "text/plain": [
              "<Figure size 720x480 with 1 Axes>"
            ]
          },
          "metadata": {
            "tags": [],
            "needs_background": "light"
          }
        }
      ]
    },
    {
      "cell_type": "markdown",
      "metadata": {
        "id": "w80lxF9KTvcN"
      },
      "source": [
        "Pela descrição dos dados bem como pelo gráfico plotado, é possível observar que os dados da fonte emissora 'T-Z-1235001' variam de 2279.143017 a 10384.143120, com média de 8008.698108 e desvio padrão de 2009.786665. Com os dados desta forma, não parece haver alguma anomalia bem como também parece ser muito difícil detectar caso haja."
      ]
    },
    {
      "cell_type": "markdown",
      "metadata": {
        "id": "-vZtOdKMVbRG"
      },
      "source": [
        "# Gráfico de Controle"
      ]
    },
    {
      "cell_type": "markdown",
      "metadata": {
        "id": "XGQ9e_egV7X7"
      },
      "source": [
        "Pelas estatísticas resumidas e no gráfico provavelmente as anomalias estarão abaixo da média, que é de 8008.698108; portanto, precisamos apenas de um gráfico de controle unilateral. (Preciso descobrir um gráfico que veja acima e abaixo)"
      ]
    },
    {
      "cell_type": "markdown",
      "metadata": {
        "id": "HzChDRM4WKUS"
      },
      "source": [
        "Como os dados de emissões não podem ser um número negativo, quase todos os valores possíveis acima da média estão no intervalo 8008.698108 <= emissão <= 10384.143120), Que estão quase todos dentro de um desvio padrão (2009.786665) Da média e, portanto, provavelmente não sejam anomalias (mas como dito acima, preciso de um gráfico que pegue acima e abaixo)"
      ]
    },
    {
      "cell_type": "markdown",
      "metadata": {
        "id": "bImiC0n_Xmg4"
      },
      "source": [
        "Portanto, vamos criar um gráfico de controle unilateral (para baixo que era o único exemplo que tinha)"
      ]
    },
    {
      "cell_type": "code",
      "metadata": {
        "id": "B3tilZYKXnkB"
      },
      "source": [
        "def control_plot(time_series, threshold):\r\n",
        "    '''\r\n",
        "    Creates a one-sided control plot from a time series\r\n",
        "    (that is, plots threshold above the mean but not below)\r\n",
        "    Also, returns list of points that exceed the threshold\r\n",
        "    i.e., points for which the value > mean + threshold*(standard deviation)\r\n",
        "    \r\n",
        "    Args: \r\n",
        "        time_series: (pandas dataframe; index column is date in datetime format and  \r\n",
        "        column 0 is data)\r\n",
        "        threshold: z-score threshold for anomaly detection (float)\r\n",
        "\r\n",
        "    Returns: \r\n",
        "        Control plot of time_series    \r\n",
        "        anomalies: anomalies that exceed threshold (pandas dataframe)\r\n",
        "    ''' \r\n",
        "    \r\n",
        "    mean_= time_series.iloc[:,0].mean()\r\n",
        "    stdev_= time_series.iloc[:,0].std()\r\n",
        "    cutoff = mean_+threshold*stdev_\r\n",
        "    plt.figure(dpi=140)\r\n",
        "    time_series.plot(ax=plt.gca())\r\n",
        "    plt.axhline(y=mean_, color='g', linestyle='--', label='mean')\r\n",
        "    # Use threshold to plot line at threshold*stdev_ times away from the mean\r\n",
        "    plt.axhline(y=cutoff, color='r', linestyle=':', label='threshold')\r\n",
        "    plt.legend(loc='best')\r\n",
        "    plt.title('Fonte1')\r\n",
        "    plt.ylabel('Emissões CO2eq')\r\n",
        "    \r\n",
        "    # Create dataframe of anomalies that exceed the cutoff\r\n",
        "    anomalies = time_series[time_series.values > cutoff]\r\n",
        "    return anomalies"
      ],
      "execution_count": 134,
      "outputs": []
    },
    {
      "cell_type": "markdown",
      "metadata": {
        "id": "lcB_JTQ1ZK8H"
      },
      "source": [
        "Defina um limite de 3 desvios padrão e plote os resultados."
      ]
    },
    {
      "cell_type": "code",
      "metadata": {
        "colab": {
          "base_uri": "https://localhost:8080/",
          "height": 555
        },
        "id": "qVSOyWwQZLeX",
        "outputId": "e5462573-8791-43d7-98c0-f5bfb4700895"
      },
      "source": [
        "anomaly_fonte1 = control_plot(newdf_fonte1, 3)"
      ],
      "execution_count": 138,
      "outputs": [
        {
          "output_type": "display_data",
          "data": {
            "image/png": "[encoded data removed]",
            "text/plain": [
              "<Figure size 840x560 with 1 Axes>"
            ]
          },
          "metadata": {
            "tags": [],
            "needs_background": "light"
          }
        }
      ]
    },
    {
      "cell_type": "markdown",
      "metadata": {
        "id": "gNxumjVItq28"
      },
      "source": [
        "Pelo gráfico gerado, não foi detectada nenhuma anomalia na Fonte 1 = T-Z-1235001. No entanto, como já indicado o mais provável é que a anomalia estivesse abaixo da média e não acima. Aqui que eu precisaria de uma ajudinha do orientador."
      ]
    },
    {
      "cell_type": "code",
      "metadata": {
        "colab": {
          "base_uri": "https://localhost:8080/"
        },
        "id": "24Y5AktpZUcH",
        "outputId": "6e331995-8cf5-40f1-ef2d-893aca4f4479"
      },
      "source": [
        "print(anomaly_fonte1)"
      ],
      "execution_count": 139,
      "outputs": [
        {
          "output_type": "stream",
          "text": [
            "Empty DataFrame\n",
            "Columns: [CO2e - AR4 (Mg)]\n",
            "Index: []\n"
          ],
          "name": "stdout"
        }
      ]
    },
    {
      "cell_type": "markdown",
      "metadata": {
        "id": "LPf94ebNu-AI"
      },
      "source": [
        "# Soma acumulada (CUSUM)"
      ]
    },
    {
      "cell_type": "code",
      "metadata": {
        "id": "R_umo8qbvFfD"
      },
      "source": [
        "def cusum(data, mean, shift, threshold):\r\n",
        "    '''\r\n",
        "   as somas cumulativas alta e baixa e use-as para detecção de anomalias.\r\n",
        "     Uma anomalia é relatada se as somas cumulativas estiverem além de um determinado limite.\r\n",
        "    \r\n",
        "     Args:\r\n",
        "         data: (uma série temporal como pandas dataframe; a coluna do índice é a data no formato datetime e\r\n",
        "         coluna 0 são dados)\r\n",
        "         mean: média dos dados ou outra média (flutuante)\r\n",
        "         mudança: mudança normal nos dados; o desvio padrão é recomendado (flutuante)\r\n",
        "         threshold: limite para classificar o ponto como anomalia (float)\r\n",
        "\r\n",
        "     Devoluções:\r\n",
        "         cusum: as somas cumulativas alta e baixa juntas Calcular com os dados (pandas dataframe)\r\n",
        "         anomalias: anomalias acima e abaixo do limite (pandas dataframe)\r\n",
        "    ''' \r\n",
        "    high_sum = 0.0\r\n",
        "    low_sum = 0.0\r\n",
        "    anomalies = [] \r\n",
        "    high_sum_final = []\r\n",
        "    low_sum_final = []\r\n",
        "    index_names = data.index\r\n",
        "    data_values = data.values\r\n",
        "    for index, item in enumerate(data_values):\r\n",
        "        high_sum = max(0, high_sum + item - mean - shift)\r\n",
        "        low_sum = min(0, low_sum + item - mean + shift)\r\n",
        "        high_sum_final.append(high_sum)\r\n",
        "        low_sum_final.append(low_sum)\r\n",
        "        if high_sum > threshold or low_sum < -threshold:\r\n",
        "            anomalies.append((index_names[index], item.tolist()))\r\n",
        "    cusum = data\r\n",
        "    cusum = cusum.assign(High_Cusum=high_sum_final, Low_Cusum=low_sum_final)\r\n",
        "    return cusum, anomalies"
      ],
      "execution_count": 207,
      "outputs": []
    },
    {
      "cell_type": "code",
      "metadata": {
        "id": "XXs3VXjHveJR"
      },
      "source": [
        "def cusum_plot(time_series, threshold):\r\n",
        "    '''\r\n",
        "    Plote as somas cumulativas alta e baixa e use-as para detecção de anomalias.\r\n",
        "     Uma anomalia é relatada se as somas cumulativas estiverem além de um determinado limite.\r\n",
        "    \r\n",
        "     Args:\r\n",
        "         time_series: (uma série temporal como pandas dataframe; a coluna de índice é date\r\n",
        "         no formato datetime e a coluna 0 é data)\r\n",
        "         threshold: limite para classificar o ponto como anomalia (float)\r\n",
        "\r\n",
        "     Devoluções:\r\n",
        "         Uma plotagem dos dados com a soma acumulada alta.\r\n",
        "         cusum_results: as somas cumulativas alta e baixa, juntamente com dados\r\n",
        "         e quaisquer anomalias acima e abaixo do limite (quadro de dados do pandas;\r\n",
        "         da função cumsum)\r\n",
        "    ''' \r\n",
        "    # Use a média e o desvio padrão de toda a série temporal\r\n",
        "     # para calcular somas cumulativas\r\n",
        "    mean_= time_series.iloc[:,0].mean()\r\n",
        "    stdev_= time_series.iloc[:,0].std()\r\n",
        "    \r\n",
        "    # definir limiar em termos de desvio padrão\r\n",
        "    cusum_results = cusum(time_series, mean_, stdev_, threshold*stdev_)\r\n",
        "    ax=time_series.plot()\r\n",
        "    ax.axhline(y=mean_, color='g', linestyle='--',label='average')\r\n",
        "    ax.axhline(y=mean_+threshold*stdev_, color='r', linestyle='--',label='High threshold')\r\n",
        "    ax.axhline(y=mean_-threshold*stdev_, color='r', linestyle='--',label='Low threshold')\r\n",
        "    # Use threshold to plot line at threshold*stdev_ times away from the mean\r\n",
        "    ax.scatter(x=cusum_results[0].index, y=cusum_results[0]['Low_Cusum'], \r\n",
        "             color='k', linestyle=':',label='Low Cusum')                      \r\n",
        "    plt.legend(loc='lower right')\r\n",
        "    plt.title('Fonte 1 Emissions - CUSUM')\r\n",
        "    plt.ylabel('CO2 Emissions')\r\n",
        "    plt.gcf().set_size_inches(8,6)\r\n",
        "    plt.show()\r\n",
        "    return cusum_results"
      ],
      "execution_count": 208,
      "outputs": []
    },
    {
      "cell_type": "markdown",
      "metadata": {
        "id": "uKC4_4stzeEn"
      },
      "source": [
        "Escolha do limiar: para o gráfico de controle, usamos 3 vezes o desvio padrão. Observe que o limite equivalente para CUSUM é * threshold * = 2, pois CUSUM inclui o * shift * (que escolhemos ser um desvio padrão) em seu cálculo da soma acumulada."
      ]
    },
    {
      "cell_type": "code",
      "metadata": {
        "colab": {
          "base_uri": "https://localhost:8080/",
          "height": 404
        },
        "id": "JJuOSspozjJF",
        "outputId": "e6f0bae5-bda0-4dbe-d175-f6a28ab89f54"
      },
      "source": [
        "anomaly_fonte1_cusum = cusum_plot(newdf_fonte1, 2);"
      ],
      "execution_count": 213,
      "outputs": [
        {
          "output_type": "display_data",
          "data": {
            "image/png": "[encoded data removed]",
            "text/plain": [
              "<Figure size 576x432 with 1 Axes>"
            ]
          },
          "metadata": {
            "tags": [],
            "needs_background": "light"
          }
        }
      ]
    },
    {
      "cell_type": "markdown",
      "metadata": {
        "id": "o7zHkJjkKV8o"
      },
      "source": [
        "Observe que CUSUM encontra a mesma anomalia que a carta de controle (1,03 polegadas em 11 de outubro de 2018), mas também rotula os dois pontos sucessivos como anomalias. Por quê?\r\n",
        "\r\n",
        "Os diferentes resultados refletem a diferença nos algoritmos. A tabela de controle está procurando pontos únicos e anômalos. CUSUM é sensível a alterações no comportamento dos dados. Como resultado, sinaliza pontos como anômalos até que o comportamento da série temporal retorne ao normal.\r\n",
        "\r\n",
        "De fato, CUSUM é usado para detecção de pontos de mudança: encontrar quando a distribuição subjacente da série temporal mudou."
      ]
    },
    {
      "cell_type": "code",
      "metadata": {
        "colab": {
          "base_uri": "https://localhost:8080/"
        },
        "id": "d08nBymGM04o",
        "outputId": "c598d557-f4c8-449b-92f5-cec29070edb1"
      },
      "source": [
        "print(anomaly_fonte1_cusum)"
      ],
      "execution_count": 214,
      "outputs": [
        {
          "output_type": "stream",
          "text": [
            "(            CO2e - AR4 (Mg)            High_Cusum              Low_Cusum\n",
            "Ano-Mes                                                                 \n",
            "2015-01-01      5695.723917                     0  [-303.18752580144564]\n",
            "2015-02-01      4703.897479                     0  [-1598.2014901506423]\n",
            "2015-03-01      3148.262873                     0   [-4448.850060299788]\n",
            "2015-04-01      2279.143017                     0   [-8168.618486379235]\n",
            "2015-05-01      3696.974132                     0   [-10470.55579717368]\n",
            "2015-06-01      3931.645483                     0  [-12537.821757577376]\n",
            "2015-07-01      7928.078435                     0  [-10608.654765441772]\n",
            "2015-08-01      8298.613180                     0   [-8308.953028901667]\n",
            "2015-09-01      6443.080507                     0   [-7864.783965568113]\n",
            "2015-10-01      6457.028056                     0  [-7406.6673526263585]\n",
            "2015-11-01      6765.102026                     0   [-6640.476769327854]\n",
            "2015-12-01      6083.260307                     0   [-6556.127905354349]\n",
            "2016-01-01      4491.397858                     0   [-8063.641490102846]\n",
            "2016-02-01      6797.719437                     0   [-7264.833496517191]\n",
            "2016-03-01      8103.910751                     0   [-5159.834189112587]\n",
            "2016-04-01      6929.708606                     0   [-4229.037026112233]\n",
            "2016-05-01      8492.473656                     0  [-1735.4748137111305]\n",
            "2016-06-01      7814.575740                     0                      0\n",
            "2016-07-01      8634.622824                     0                      0\n",
            "2016-08-01      9074.656652                     0                      0\n",
            "2016-09-01      8505.785989                     0                      0\n",
            "2016-10-01      9318.668554                     0                      0\n",
            "2016-11-01     10018.245961                     0                      0\n",
            "2016-12-01     10211.076332  [192.59155939058428]                      0\n",
            "2017-01-01     10384.143120   [558.2499066491687]                      0\n",
            "2017-02-01      8105.274312                     0                      0\n",
            "2017-03-01      9965.055091                     0                      0\n",
            "2017-04-01     10145.140019  [126.65524722158398]                      0\n",
            "2017-05-01     10368.437621  [476.60809572966855]                      0\n",
            "2017-06-01      9714.660581  [172.78390416575303]                      0\n",
            "2017-07-01      3457.490135                     0  [-2541.4213079455462]\n",
            "2017-08-01     10223.840833  [205.35606111458355]                      0\n",
            "2017-09-01      9141.257800                     0                      0\n",
            "2017-10-01      9532.811785                     0                      0\n",
            "2017-11-01      8825.896037                     0                      0\n",
            "2017-12-01      9838.247657                     0                      0\n",
            "2018-01-01      9679.355576                     0                      0\n",
            "2018-02-01      8521.883984                     0                      0\n",
            "2018-03-01      9697.923831                     0                      0\n",
            "2018-04-01      9313.107191                     0                      0\n",
            "2018-05-01      9683.573081                     0                      0\n",
            "2018-06-01      7628.352169                     0                      0\n",
            "2018-07-01      9726.459176                     0                      0\n",
            "2018-08-01     10101.892453    [83.4076806710832]                      0\n",
            "2018-09-01      8011.694118                     0                      0\n",
            "2018-10-01      9762.051853                     0                      0\n",
            "2018-11-01      8913.157820                     0                      0\n",
            "2018-12-01     10253.770477   [235.2857052030845]                      0\n",
            "2019-01-01      9936.381391  [153.18232437916913]                      0\n",
            "2019-02-01      7202.651752                     0                      0\n",
            "2019-03-01      8465.396808                     0                      0\n",
            "2019-04-01      7663.417148                     0                      0\n",
            "2019-05-01      7904.763760                     0                      0\n",
            "2019-06-01      7498.854152                     0                      0\n",
            "2019-07-01      6435.729332                     0                      0\n",
            "2019-08-01      7756.212708                     0                      0\n",
            "2019-09-01      7804.755459                     0                      0\n",
            "2019-10-01      7473.142371                     0                      0\n",
            "2019-11-01      8108.973576                     0                      0\n",
            "2019-12-01      9452.479512                     0                      0, [(Timestamp('2015-03-01 00:00:00'), [3148.26287303775]), (Timestamp('2015-04-01 00:00:00'), [2279.14301710745]), (Timestamp('2015-05-01 00:00:00'), [3696.97413239245]), (Timestamp('2015-06-01 00:00:00'), [3931.6454827832]), (Timestamp('2015-07-01 00:00:00'), [7928.0784353225]), (Timestamp('2015-08-01 00:00:00'), [8298.613179726999]), (Timestamp('2015-09-01 00:00:00'), [6443.08050652045]), (Timestamp('2015-10-01 00:00:00'), [6457.02805612865]), (Timestamp('2015-11-01 00:00:00'), [6765.1020264854005]), (Timestamp('2015-12-01 00:00:00'), [6083.260307160401]), (Timestamp('2016-01-01 00:00:00'), [4491.3978584384]), (Timestamp('2016-02-01 00:00:00'), [6797.7194367725515]), (Timestamp('2016-03-01 00:00:00'), [8103.9107505915]), (Timestamp('2016-04-01 00:00:00'), [6929.708606187251])])\n"
          ],
          "name": "stdout"
        }
      ]
    },
    {
      "cell_type": "markdown",
      "metadata": {
        "id": "jItUk8ctRrSk"
      },
      "source": [
        "Não consegui imprimir os dados que apresentaram apenas anomalias. No gráfico da aula o professo também só teve o dado visual. Outra dificuldade não solucionada foi na plotagem do CUSUM em cima do gráfico de emissões."
      ]
    },
    {
      "cell_type": "code",
      "metadata": {
        "id": "MLTYd9zbNmfj"
      },
      "source": [
        ""
      ],
      "execution_count": null,
      "outputs": []
    },
    {
      "cell_type": "markdown",
      "metadata": {
        "id": "7LWkF3E9SLDl"
      },
      "source": [
        "# Seção 2: modelos autogressivos\r\n",
        "\r\n",
        "Nos dois métodos anteriores, realizamos a análise no modo offline - tínhamos todos os dados de interesse em mãos. Como resultado, ao examinar um determinado ponto, poderíamos usar o passado e o futuro (com relação a esse ponto) para calcular estatísticas como a média e o desvio padrão.\r\n",
        "\r\n",
        "Modelos autoregressivos são comumente usados para detecção de anomalias em fluxo. Para analisar séries temporais no modo de streaming - ou seja, à medida que os dados se tornam disponíveis."
      ]
    },
    {
      "cell_type": "markdown",
      "metadata": {
        "id": "Z0VIP3MWVxMp"
      },
      "source": [
        "Como linha de base para o modelo de regressão automática, podemos verificar o que um gráfico de controle revela como anomalias. Em contraste com o exemplo da precipitação, aqui podemos ter anomalias em ambos os lados da média, portanto modificamos * control_plot * para se tornar um gráfico de controle completo de dois lados."
      ]
    },
    {
      "cell_type": "code",
      "metadata": {
        "id": "JdL8QfRnS0mo"
      },
      "source": [
        "def control_plot_full(time_series, threshold):\r\n",
        "    '''\r\n",
        "    Cria um gráfico de controle frente e verso de uma série temporal\r\n",
        "     (limiar de plotagem acima e abaixo da média)\r\n",
        "     Além disso, retorna a lista de pontos que excedem o limite\r\n",
        "     ou seja, pontos para os quais o valor> média + limite * (desvio padrão)\r\n",
        "     e valor <média - limiar * (desvio padrão)\r\n",
        "    \r\n",
        "     Args:\r\n",
        "         time_series: (pandas dataframe; a coluna de índice é a data no formato datetime e\r\n",
        "         coluna 0 são dados)\r\n",
        "         threshold: limite para detecção de anomalias (float)\r\n",
        "\r\n",
        "     Devoluções:\r\n",
        "         Gráfico de controle de time_series\r\n",
        "         anomalias: anomalias que excedem o limite (pandas dataframe)\r\n",
        "    ''' \r\n",
        "    \r\n",
        "    mean_= time_series.iloc[:, 0].mean()\r\n",
        "    stdev_= time_series.iloc[:, 0].std()\r\n",
        "    time_series.plot()\r\n",
        "    plt.axhline(y=mean_, color='g', linestyle='--',label='average')\r\n",
        "    # Use threshold to plot line at threshold*stdev_ times away from the mean\r\n",
        "    plt.axhline(y=mean_+threshold*stdev_, color='r', linestyle=':', label='high threshold')\r\n",
        "    plt.axhline(y=mean_-threshold*stdev_, color='m', linestyle=':', label='low threshold')\r\n",
        "    plt.legend(loc='upper right')\r\n",
        "    plt.title('Fonte 1 Emissions')\r\n",
        "    plt.ylabel('CO2eq Emissions')\r\n",
        "    plt.gcf().set_size_inches(8,6)\r\n",
        "    plt.show()\r\n",
        "    \r\n",
        "    # Create dataframe of anomalies that exceed the threshold\r\n",
        "    anomaly_mask = (np.abs(time_series.values - mean_) > threshold*stdev_)\r\n",
        "    anomalies = time_series[anomaly_mask]\r\n",
        "    return anomalies"
      ],
      "execution_count": 215,
      "outputs": []
    },
    {
      "cell_type": "code",
      "metadata": {
        "colab": {
          "base_uri": "https://localhost:8080/",
          "height": 465
        },
        "id": "vOq_GpPcTbak",
        "outputId": "6a3e532a-15b6-4ba8-b677-47efa0002337"
      },
      "source": [
        "control_plot_full(newdf_fonte1, 3)"
      ],
      "execution_count": 216,
      "outputs": [
        {
          "output_type": "display_data",
          "data": {
            "image/png": "[encoded data removed]",
            "text/plain": [
              "<Figure size 576x432 with 1 Axes>"
            ]
          },
          "metadata": {
            "tags": [],
            "needs_background": "light"
          }
        },
        {
          "output_type": "execute_result",
          "data": {
            "text/html": [
              "<div>\n",
              "<style scoped>\n",
              "    .dataframe tbody tr th:only-of-type {\n",
              "        vertical-align: middle;\n",
              "    }\n",
              "\n",
              "    .dataframe tbody tr th {\n",
              "        vertical-align: top;\n",
              "    }\n",
              "\n",
              "    .dataframe thead th {\n",
              "        text-align: right;\n",
              "    }\n",
              "</style>\n",
              "<table border=\"1\" class=\"dataframe\">\n",
              "  <thead>\n",
              "    <tr style=\"text-align: right;\">\n",
              "      <th></th>\n",
              "      <th>CO2e - AR4 (Mg)</th>\n",
              "    </tr>\n",
              "    <tr>\n",
              "      <th>Ano-Mes</th>\n",
              "      <th></th>\n",
              "    </tr>\n",
              "  </thead>\n",
              "  <tbody>\n",
              "  </tbody>\n",
              "</table>\n",
              "</div>"
            ],
            "text/plain": [
              "Empty DataFrame\n",
              "Columns: [CO2e - AR4 (Mg)]\n",
              "Index: []"
            ]
          },
          "metadata": {
            "tags": []
          },
          "execution_count": 216
        }
      ]
    },
    {
      "cell_type": "markdown",
      "metadata": {
        "id": "aSQmuEo3WCpA"
      },
      "source": [
        "Somente pelo resultado do gráfico não encontramos nenhuma anomalia."
      ]
    },
    {
      "cell_type": "code",
      "metadata": {
        "colab": {
          "base_uri": "https://localhost:8080/"
        },
        "id": "_w-nl6pXTxlE",
        "outputId": "50e00f1f-1bb5-4819-b418-ff7dcf36dbd2"
      },
      "source": [
        "print(newdf_fonte1.index.inferred_freq)"
      ],
      "execution_count": 217,
      "outputs": [
        {
          "output_type": "stream",
          "text": [
            "MS\n"
          ],
          "name": "stdout"
        }
      ]
    },
    {
      "cell_type": "markdown",
      "metadata": {
        "id": "hT7qA_2vT--S"
      },
      "source": [
        "Frequência mensal"
      ]
    },
    {
      "cell_type": "code",
      "metadata": {
        "id": "igMeXXsxT-U4"
      },
      "source": [
        "newdf_fonte1.index.freq=newdf_fonte1.index.inferred_freq"
      ],
      "execution_count": 218,
      "outputs": []
    },
    {
      "cell_type": "code",
      "metadata": {
        "colab": {
          "base_uri": "https://localhost:8080/",
          "height": 408
        },
        "id": "RwUVjbWKUKQg",
        "outputId": "5966226f-e843-4dc1-9a3f-145e0154634e"
      },
      "source": [
        "efonte1_sar=ARIMA(newdf_fonte1, order=(1,1,4)).fit()\r\n",
        "\r\n",
        "efonte1_sar.summary()"
      ],
      "execution_count": 219,
      "outputs": [
        {
          "output_type": "execute_result",
          "data": {
            "text/html": [
              "<table class=\"simpletable\">\n",
              "<caption>ARIMA Model Results</caption>\n",
              "<tr>\n",
              "  <th>Dep. Variable:</th> <td>D.CO2e - AR4 (Mg)</td> <th>  No. Observations:  </th>    <td>59</td>   \n",
              "</tr>\n",
              "<tr>\n",
              "  <th>Model:</th>          <td>ARIMA(1, 1, 4)</td>   <th>  Log Likelihood     </th> <td>-513.581</td>\n",
              "</tr>\n",
              "<tr>\n",
              "  <th>Method:</th>             <td>css-mle</td>      <th>  S.D. of innovations</th> <td>1446.109</td>\n",
              "</tr>\n",
              "<tr>\n",
              "  <th>Date:</th>          <td>Sun, 20 Dec 2020</td>  <th>  AIC                </th> <td>1041.161</td>\n",
              "</tr>\n",
              "<tr>\n",
              "  <th>Time:</th>              <td>18:02:57</td>      <th>  BIC                </th> <td>1055.704</td>\n",
              "</tr>\n",
              "<tr>\n",
              "  <th>Sample:</th>           <td>02-01-2015</td>     <th>  HQIC               </th> <td>1046.838</td>\n",
              "</tr>\n",
              "<tr>\n",
              "  <th></th>                 <td>- 12-01-2019</td>    <th>                     </th>     <td> </td>   \n",
              "</tr>\n",
              "</table>\n",
              "<table class=\"simpletable\">\n",
              "<tr>\n",
              "             <td></td>                <th>coef</th>     <th>std err</th>      <th>z</th>      <th>P>|z|</th>  <th>[0.025</th>    <th>0.975]</th>  \n",
              "</tr>\n",
              "<tr>\n",
              "  <th>const</th>                   <td>   63.2694</td> <td>   59.587</td> <td>    1.062</td> <td> 0.293</td> <td>  -53.519</td> <td>  180.058</td>\n",
              "</tr>\n",
              "<tr>\n",
              "  <th>ar.L1.D.CO2e - AR4 (Mg)</th> <td>   -0.8309</td> <td>    0.197</td> <td>   -4.208</td> <td> 0.000</td> <td>   -1.218</td> <td>   -0.444</td>\n",
              "</tr>\n",
              "<tr>\n",
              "  <th>ma.L1.D.CO2e - AR4 (Mg)</th> <td>    0.2987</td> <td>    0.238</td> <td>    1.254</td> <td> 0.215</td> <td>   -0.168</td> <td>    0.765</td>\n",
              "</tr>\n",
              "<tr>\n",
              "  <th>ma.L2.D.CO2e - AR4 (Mg)</th> <td>   -0.5959</td> <td>    0.170</td> <td>   -3.496</td> <td> 0.001</td> <td>   -0.930</td> <td>   -0.262</td>\n",
              "</tr>\n",
              "<tr>\n",
              "  <th>ma.L3.D.CO2e - AR4 (Mg)</th> <td>   -0.0585</td> <td>    0.152</td> <td>   -0.384</td> <td> 0.702</td> <td>   -0.357</td> <td>    0.240</td>\n",
              "</tr>\n",
              "<tr>\n",
              "  <th>ma.L4.D.CO2e - AR4 (Mg)</th> <td>   -0.0978</td> <td>    0.139</td> <td>   -0.704</td> <td> 0.485</td> <td>   -0.370</td> <td>    0.175</td>\n",
              "</tr>\n",
              "</table>\n",
              "<table class=\"simpletable\">\n",
              "<caption>Roots</caption>\n",
              "<tr>\n",
              "    <td></td>   <th>            Real</th>  <th>         Imaginary</th> <th>         Modulus</th>  <th>        Frequency</th>\n",
              "</tr>\n",
              "<tr>\n",
              "  <th>AR.1</th> <td>          -1.2036</td> <td>          +0.0000j</td> <td>           1.2036</td> <td>           0.5000</td>\n",
              "</tr>\n",
              "<tr>\n",
              "  <th>MA.1</th> <td>          -1.0379</td> <td>          -0.0000j</td> <td>           1.0379</td> <td>          -0.5000</td>\n",
              "</tr>\n",
              "<tr>\n",
              "  <th>MA.2</th> <td>           1.2888</td> <td>          -0.0000j</td> <td>           1.2888</td> <td>          -0.0000</td>\n",
              "</tr>\n",
              "<tr>\n",
              "  <th>MA.3</th> <td>          -0.4248</td> <td>          -2.7320j</td> <td>           2.7648</td> <td>          -0.2745</td>\n",
              "</tr>\n",
              "<tr>\n",
              "  <th>MA.4</th> <td>          -0.4248</td> <td>          +2.7320j</td> <td>           2.7648</td> <td>           0.2745</td>\n",
              "</tr>\n",
              "</table>"
            ],
            "text/plain": [
              "<class 'statsmodels.iolib.summary.Summary'>\n",
              "\"\"\"\n",
              "                             ARIMA Model Results                              \n",
              "==============================================================================\n",
              "Dep. Variable:      D.CO2e - AR4 (Mg)   No. Observations:                   59\n",
              "Model:                 ARIMA(1, 1, 4)   Log Likelihood                -513.581\n",
              "Method:                       css-mle   S.D. of innovations           1446.109\n",
              "Date:                Sun, 20 Dec 2020   AIC                           1041.161\n",
              "Time:                        18:02:57   BIC                           1055.704\n",
              "Sample:                    02-01-2015   HQIC                          1046.838\n",
              "                         - 12-01-2019                                         \n",
              "===========================================================================================\n",
              "                              coef    std err          z      P>|z|      [0.025      0.975]\n",
              "-------------------------------------------------------------------------------------------\n",
              "const                      63.2694     59.587      1.062      0.293     -53.519     180.058\n",
              "ar.L1.D.CO2e - AR4 (Mg)    -0.8309      0.197     -4.208      0.000      -1.218      -0.444\n",
              "ma.L1.D.CO2e - AR4 (Mg)     0.2987      0.238      1.254      0.215      -0.168       0.765\n",
              "ma.L2.D.CO2e - AR4 (Mg)    -0.5959      0.170     -3.496      0.001      -0.930      -0.262\n",
              "ma.L3.D.CO2e - AR4 (Mg)    -0.0585      0.152     -0.384      0.702      -0.357       0.240\n",
              "ma.L4.D.CO2e - AR4 (Mg)    -0.0978      0.139     -0.704      0.485      -0.370       0.175\n",
              "                                    Roots                                    \n",
              "=============================================================================\n",
              "                  Real          Imaginary           Modulus         Frequency\n",
              "-----------------------------------------------------------------------------\n",
              "AR.1           -1.2036           +0.0000j            1.2036            0.5000\n",
              "MA.1           -1.0379           -0.0000j            1.0379           -0.5000\n",
              "MA.2            1.2888           -0.0000j            1.2888           -0.0000\n",
              "MA.3           -0.4248           -2.7320j            2.7648           -0.2745\n",
              "MA.4           -0.4248           +2.7320j            2.7648            0.2745\n",
              "-----------------------------------------------------------------------------\n",
              "\"\"\""
            ]
          },
          "metadata": {
            "tags": []
          },
          "execution_count": 219
        }
      ]
    },
    {
      "cell_type": "markdown",
      "metadata": {
        "id": "2hIXcjIaWRmM"
      },
      "source": [
        "Como no exemplo de aula, não discutiremos as estatísticas relatadas, exceto para dizer que ela inclui o desvio padrão dos resíduos (59.587\t), que usaremos posteriormente."
      ]
    },
    {
      "cell_type": "markdown",
      "metadata": {
        "id": "nsp3K_EoWqJQ"
      },
      "source": [
        "Verificamos os diagnósticos para verificar se as premissas subjacentes ao modelo são atendidas e também para obter informações adicionais sobre a qualidade do ajuste. Isso é feito usando um gráfico Q-Q (verificando se os resíduos seguem uma distribuição normal), investigando os resíduos por padrões temporais e plotando um histograma dos resíduos"
      ]
    },
    {
      "cell_type": "code",
      "metadata": {
        "colab": {
          "base_uri": "https://localhost:8080/",
          "height": 281
        },
        "id": "iZ1_RZKDUgpF",
        "outputId": "29d2bc32-0d69-46c0-da7c-b1d5c3d72bed"
      },
      "source": [
        "# Get the predicted standard deviation. This is the 6.516 we saw earlier\r\n",
        "sigma_pred = efonte1_sar.resid.std()\r\n",
        "# Calculate the standardized residuals from the (regular) residuals\r\n",
        "efonte1_std_resid = efonte1_sar.resid/sigma_pred\r\n",
        "\r\n",
        "plt.title('Patterns in residual')\r\n",
        "plt.plot(efonte1_std_resid);"
      ],
      "execution_count": 221,
      "outputs": [
        {
          "output_type": "display_data",
          "data": {
            "image/png": "[encoded data removed]",
            "text/plain": [
              "<Figure size 432x288 with 1 Axes>"
            ]
          },
          "metadata": {
            "tags": [],
            "needs_background": "light"
          }
        }
      ]
    },
    {
      "cell_type": "code",
      "metadata": {
        "colab": {
          "base_uri": "https://localhost:8080/",
          "height": 460
        },
        "id": "yj4oQBrEUxPw",
        "outputId": "bab84c51-48dc-483d-ed37-16666c2c45ab"
      },
      "source": [
        "fig = plt.figure(figsize=(12,6))\r\n",
        "ax = plt.subplot(121)\r\n",
        "plt.title('Distribution of residuals')\r\n",
        "sns.distplot(efonte1_std_resid.values, bins=50, ax=ax);\r\n",
        "stats.probplot(efonte1_std_resid.values, dist='norm', sparams=(2.5,), plot=plt.subplot(122));"
      ],
      "execution_count": 222,
      "outputs": [
        {
          "output_type": "stream",
          "text": [
            "/usr/local/lib/python3.6/dist-packages/seaborn/distributions.py:2551: FutureWarning: `distplot` is a deprecated function and will be removed in a future version. Please adapt your code to use either `displot` (a figure-level function with similar flexibility) or `histplot` (an axes-level function for histograms).\n",
            "  warnings.warn(msg, FutureWarning)\n"
          ],
          "name": "stderr"
        },
        {
          "output_type": "display_data",
          "data": {
            "image/png": "[encoded data removed]",
            "text/plain": [
              "<Figure size 864x432 with 2 Axes>"
            ]
          },
          "metadata": {
            "tags": [],
            "needs_background": "light"
          }
        }
      ]
    },
    {
      "cell_type": "markdown",
      "metadata": {
        "id": "1_jZ9RlqW5Dy"
      },
      "source": [
        "Para detecção de anomalias, focamos no gráfico superior: resíduos padronizados. O residual padronizado é o residual (a diferença entre o valor observado e o valor previsto) dividido pelo desvio padrão previsto (a raiz quadrada da variação prevista mencionada acima). É uma versão mais sofisticada do z-score que discutimos na 1 aula."
      ]
    },
    {
      "cell_type": "markdown",
      "metadata": {
        "id": "wXG3cHD-W_H9"
      },
      "source": [
        "Uma regra prática para detectar anomalias com resíduos padronizados: anomalias são pontos para os quais a magnitude dos resíduos padronizados é maior que 4. Vamos encontrar esses pontos."
      ]
    },
    {
      "cell_type": "code",
      "metadata": {
        "colab": {
          "base_uri": "https://localhost:8080/"
        },
        "id": "Kegsv1MSVF4a",
        "outputId": "365e3377-b5c9-426f-876f-6be6f7d58f8d"
      },
      "source": [
        "# Reportar as anomalias\r\n",
        "anomaly_mask = np.abs(tmax_std_resid) > 4\r\n",
        "efonte1_anomalies = efonte1_std_resid[anomaly_mask]\r\n",
        "print(efonte1_anomalies)"
      ],
      "execution_count": 223,
      "outputs": [
        {
          "output_type": "stream",
          "text": [
            "Ano-Mes\n",
            "2017-07-01   -4.127769\n",
            "Freq: MS, dtype: float64\n"
          ],
          "name": "stdout"
        }
      ]
    },
    {
      "cell_type": "markdown",
      "metadata": {
        "id": "RqT1WWt6W9q_"
      },
      "source": [
        "Nosso modelo encontrou como anomalia o dado de 2017-07-01.\r\n",
        "\r\n",
        "O próximo passo seria variar os parâmetros do modelo de autorregressão e verificar a robustez dessas descobertas, mas como isso pertence ao reino da análise de série temporal, vamos parar por aqui."
      ]
    },
    {
      "cell_type": "code",
      "metadata": {
        "id": "gbsK7JIcXfpj"
      },
      "source": [
        ""
      ],
      "execution_count": null,
      "outputs": []
    },
    {
      "cell_type": "markdown",
      "metadata": {
        "id": "oHYL7TltXk5x"
      },
      "source": [
        "# Aplicar a auto regressão para uma outra fonte"
      ]
    },
    {
      "cell_type": "code",
      "metadata": {
        "id": "JCJVPprhXtZ2"
      },
      "source": [
        ""
      ],
      "execution_count": null,
      "outputs": []
    },
    {
      "cell_type": "markdown",
      "metadata": {
        "id": "k7SJN9fMXzbp"
      },
      "source": [
        "# Alterar os dados de uma fonte para ver se o modelo pega."
      ]
    },
    {
      "cell_type": "code",
      "metadata": {
        "id": "6blvXqUxX4l2"
      },
      "source": [
        ""
      ],
      "execution_count": null,
      "outputs": []
    }
  ]
}