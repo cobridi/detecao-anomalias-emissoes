{
  "nbformat": 4,
  "nbformat_minor": 0,
  "metadata": {
    "kernelspec": {
      "display_name": "Intel Anomaly Env",
      "language": "python",
      "name": "intel_anomaly"
    },
    "language_info": {
      "codemirror_mode": {
        "name": "ipython",
        "version": 3
      },
      "file_extension": ".py",
      "mimetype": "text/x-python",
      "name": "python",
      "nbconvert_exporter": "python",
      "pygments_lexer": "ipython3",
      "version": "3.6.7"
    },
    "varInspector": {
      "cols": {
        "lenName": 16,
        "lenType": 16,
        "lenVar": 40
      },
      "kernels_config": {
        "python": {
          "delete_cmd_postfix": "",
          "delete_cmd_prefix": "del ",
          "library": "var_list.py",
          "varRefreshCmd": "print(var_dic_list())"
        },
        "r": {
          "delete_cmd_postfix": ") ",
          "delete_cmd_prefix": "rm(",
          "library": "var_list.r",
          "varRefreshCmd": "cat(var_dic_list()) "
        }
      },
      "types_to_exclude": [
        "module",
        "function",
        "builtin_function_or_method",
        "instance",
        "_Feature"
      ],
      "window_display": false
    },
    "colab": {
      "name": "deteção_anomalia_emissoes.ipynb",
      "provenance": [],
      "toc_visible": true,
      "include_colab_link": true
    }
  },
  "cells": [
    {
      "cell_type": "markdown",
      "metadata": {
        "id": "view-in-github",
        "colab_type": "text"
      },
      "source": [
        "<a href=\"https://colab.research.google.com/github/cobridi/detecao-anomalias-emissoes/blob/main/dete%C3%A7%C3%A3o_anomalia_emissoes.ipynb\" target=\"_parent\"><img src=\"https://colab.research.google.com/assets/colab-badge.svg\" alt=\"Open In Colab\"/></a>"
      ]
    },
    {
      "cell_type": "markdown",
      "metadata": {
        "id": "1R6BPzT8dIRE"
      },
      "source": [
        "# Introdução\n",
        "\n",
        "Este Notebook faz parte do trabalho final do curso BI MASTER Turma 2019.03 do aluno Claudio Bridi, orientado pela Prof. Evelyn.\n",
        "\n",
        "# Objetivo: \n",
        "\n",
        "Criar um algoritmo para detectar anomalias em série temporal de emissões mensais de CO2-equivalente das fontes de uma UEP (Unidade Estacionária de Produção de Óleo e Gás), no período de 2015 a 2019.\n",
        "\n",
        "# Material\n",
        "- Google Colaboratory\n",
        "- Planilha de dados brutos contendo \"nome da instalação\", \"tipo de fonte\", \"código da fonte\", \"Ano\", \"Mês\", \"CO2 emitido\", em formatos csv e excel\n",
        "- Git Hub\n",
        "- Arquivo com código em python da disciplina CONF: deteçãodeanomaliasemseries.ipynb\n",
        "\n",
        "# Aplicabilidade:\n",
        "Este algoritmo poderá ser utilizado na industria de óleo e gás, mais especificamente, e também para empresas que precisem registrar, inventariar, divulgar e trabalhar com dados de emissões de gases de efeito estufa. Para detecção e correção das anomalias em dados, na maioria das vezes inseridos manualmente em sistema ou planilha específica, também costumamente são verificados no olho por algum profissional todos o anos, antes de comporem as informações do inventário e relatório de emissões, divulgado tanto internamente quanto para stakeholders externos. Isto é, por serem muitos dados e de muitas fontes, anomalias podem passar despercebidas, prejudicando a análise de dados, atendimento de compromissos assumidos e perda de credibilidade.\n",
        "\n",
        "# Orientação:\n",
        "Esta ideia surgiu na disciplina de Confiabilidade quando estudamos a detecção de anomalias em séries temporais de dados de precipitação em NY. Pensei em como ponto de partida utilizar o mesmo algorítimo e avançar a partir de então. #\n",
        "\n",
        "# Prazo:\n",
        "Finalizado no GitHub até 30/12/2020.\n"
      ]
    },
    {
      "cell_type": "markdown",
      "metadata": {
        "id": "QkUY3H-MN2gK"
      },
      "source": [
        "# Detecção de anomalias em Séries Temporais de Emissões de Gases de Efeito Estufa por equipamentos de uma plataforma de petróleo\n",
        "\n",
        "### Planejamento por etapas:\n",
        "\n",
        "*  Carregar, preparar e analisar dados\n",
        "*  Pré-Processar os dados\n",
        "*  Controle estatístico do processo (CEP) para detectar anomalias*\n",
        "*  Modelos Autorregressivos\n",
        "*  Avaliação dos modelos\n",
        "*  Conclusão Final\n",
        "\n",
        "\n",
        "\n",
        "\n",
        "\n",
        "\n",
        "\n"
      ]
    }
  ]
}