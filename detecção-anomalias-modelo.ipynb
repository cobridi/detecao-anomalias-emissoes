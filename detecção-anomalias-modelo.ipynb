{
  "nbformat": 4,
  "nbformat_minor": 0,
  "metadata": {
    "kernelspec": {
      "display_name": "Intel Anomaly Env",
      "language": "python",
      "name": "intel_anomaly"
    },
    "language_info": {
      "codemirror_mode": {
        "name": "ipython",
        "version": 3
      },
      "file_extension": ".py",
      "mimetype": "text/x-python",
      "name": "python",
      "nbconvert_exporter": "python",
      "pygments_lexer": "ipython3",
      "version": "3.6.7"
    },
    "varInspector": {
      "cols": {
        "lenName": 16,
        "lenType": 16,
        "lenVar": 40
      },
      "kernels_config": {
        "python": {
          "delete_cmd_postfix": "",
          "delete_cmd_prefix": "del ",
          "library": "var_list.py",
          "varRefreshCmd": "print(var_dic_list())"
        },
        "r": {
          "delete_cmd_postfix": ") ",
          "delete_cmd_prefix": "rm(",
          "library": "var_list.r",
          "varRefreshCmd": "cat(var_dic_list()) "
        }
      },
      "types_to_exclude": [
        "module",
        "function",
        "builtin_function_or_method",
        "instance",
        "_Feature"
      ],
      "window_display": false
    },
    "colab": {
      "name": "deteçãodeanomaliasemseries.ipynb",
      "provenance": [],
      "toc_visible": true,
      "include_colab_link": true
    }
  },
  "cells": [
    {
      "cell_type": "markdown",
      "metadata": {
        "id": "view-in-github",
        "colab_type": "text"
      },
      "source": [
        "<a href=\"https://colab.research.google.com/github/cobridi/detecao-anomalias-emissoes/blob/main/detec%C3%A7%C3%A3o-anomalias-emissoes.ipynb\" target=\"_parent\"><img src=\"https://colab.research.google.com/assets/colab-badge.svg\" alt=\"Open In Colab\"/></a>"
      ]
    },
    {
      "cell_type": "markdown",
      "metadata": {
        "id": "1R6BPzT8dIRE"
      },
      "source": [
        "# Introdução\n",
        "\n",
        "Na Lição 7 de * Detecção de anomalias *, discutimos como detectar anomalias em séries temporais usando controle estatístico de processos e modelos auto-regressivos. Aqui aplicaremos as duas abordagens para conjuntos de dados do mundo real.\n",
        "\n",
        "\n",
        "# Resultados de Aprendizagem\n",
        "\n",
        "Você deve sair deste tutorial em Python com:\n",
        "\n",
        "1. Compreensão da detecção de anomalias de séries temporais\n",
        "2. Experiência prática com controle estatístico de processos e modelos autorregressivos para detectar anomalias em séries temporais.\n"
      ]
    },
    {
      "cell_type": "markdown",
      "metadata": {
        "id": "MRSjprkrdIRE"
      },
      "source": [
        "# Importando\n",
        "\n"
      ]
    },
    {
      "cell_type": "code",
      "metadata": {
        "ExecuteTime": {
          "end_time": "2018-12-16T06:32:41.931157Z",
          "start_time": "2018-12-16T06:32:40.024011Z"
        },
        "id": "P-5vWtCEdIRF"
      },
      "source": [
        "%matplotlib inline\n",
        "#import warnings\n",
        "#warnings.filterwarnings('ignore', category=FutureWarning)\n",
        "import sys\n",
        "import datetime as dt\n",
        "import numpy as np\n",
        "import pandas as pd\n",
        "import matplotlib\n",
        "import matplotlib.pyplot as plt\n",
        "import random\n",
        "import seaborn as sns\n",
        "from scipy import stats\n",
        "import statsmodels as ss\n",
        "import statsmodels.api as sm\n",
        "from statsmodels.tsa.arima_model import ARIMA"
      ],
      "execution_count": 2,
      "outputs": []
    },
    {
      "cell_type": "markdown",
      "metadata": {
        "id": "D37CN0FcdIRI"
      },
      "source": [
        "# Python and library versions"
      ]
    },
    {
      "cell_type": "code",
      "metadata": {
        "ExecuteTime": {
          "end_time": "2018-12-16T06:32:41.938649Z",
          "start_time": "2018-12-16T06:32:41.933352Z"
        },
        "id": "rNQxm9eVdIRI",
        "colab": {
          "base_uri": "https://localhost:8080/"
        },
        "outputId": "176ffb5b-0c04-44d9-b85e-fbfcd1761e2a"
      },
      "source": [
        "packages = [matplotlib, np, pd]\n",
        "\n",
        "msg = f\"\"\"\n",
        "Python Version: {sys.version}\n",
        "\n",
        "library .      version\n",
        "-------        -------\"\"\"\n",
        "print(msg)\n",
        "\n",
        "for package in packages:\n",
        "    print(f\"{package.__name__:11}    {package.__version__:>7}\")"
      ],
      "execution_count": 3,
      "outputs": [
        {
          "output_type": "stream",
          "text": [
            "\n",
            "Python Version: 3.6.9 (default, Oct  8 2020, 12:12:24) \n",
            "[GCC 8.4.0]\n",
            "\n",
            "library .      version\n",
            "-------        -------\n",
            "matplotlib       3.2.2\n",
            "numpy           1.18.5\n",
            "pandas           1.1.4\n"
          ],
          "name": "stdout"
        }
      ]
    },
    {
      "cell_type": "markdown",
      "metadata": {
        "id": "CrqzvHXZdIRL"
      },
      "source": [
        "# Seção 1: Controle estatístico de processo\n",
        "\n",
        "Nesta seção, usaremos o controle estatístico do processo (CEP) para detectar anomalias em séries temporais. Como discutimos na aula"
      ]
    },
    {
      "cell_type": "markdown",
      "metadata": {
        "id": "AeQx6KL9dIRM"
      },
      "source": [
        "### Dados"
      ]
    },
    {
      "cell_type": "markdown",
      "metadata": {
        "id": "rr-bjbi1dIRM"
      },
      "source": [
        "Como exemplo, usaremos dados de precipitação para outubro de 2018 para a cidade de Nova York (coletados no aeroporto JFK). Os dados brutos estão disponíveis no site da NOAA:\n",
        "\n",
        "https://www.ncdc.noaa.gov/cdo-web/datasets/GHCND/stations/GHCND:USW00094789/detail\n",
        "\n",
        "Aqui nós fornecemos uma versão limpa dos dados. Fizemos duas alterações nos dados brutos: (1) as datas foram escritas em um formato útil para a análise de séries temporais e (2) os valores de precipitação vestigial foram substituídos por zero."
      ]
    },
    {
      "cell_type": "code",
      "metadata": {
        "ExecuteTime": {
          "end_time": "2018-12-16T06:32:41.967590Z",
          "start_time": "2018-12-16T06:32:41.941352Z"
        },
        "id": "jTvAnwTJdIRN",
        "colab": {
          "base_uri": "https://localhost:8080/",
          "height": 235
        },
        "outputId": "0f5c71db-3d9a-46a4-d3bb-cdd27c1f4140"
      },
      "source": [
        "df_ppt = pd.read_csv('nyc_precipitation_oct2018.csv', parse_dates=True, index_col=0)\n",
        "df_ppt.head()"
      ],
      "execution_count": null,
      "outputs": [
        {
          "output_type": "execute_result",
          "data": {
            "text/html": [
              "<div>\n",
              "<style scoped>\n",
              "    .dataframe tbody tr th:only-of-type {\n",
              "        vertical-align: middle;\n",
              "    }\n",
              "\n",
              "    .dataframe tbody tr th {\n",
              "        vertical-align: top;\n",
              "    }\n",
              "\n",
              "    .dataframe thead th {\n",
              "        text-align: right;\n",
              "    }\n",
              "</style>\n",
              "<table border=\"1\" class=\"dataframe\">\n",
              "  <thead>\n",
              "    <tr style=\"text-align: right;\">\n",
              "      <th></th>\n",
              "      <th>Precipitation</th>\n",
              "    </tr>\n",
              "    <tr>\n",
              "      <th>Date</th>\n",
              "      <th></th>\n",
              "    </tr>\n",
              "  </thead>\n",
              "  <tbody>\n",
              "    <tr>\n",
              "      <th>2018-10-01</th>\n",
              "      <td>0.00</td>\n",
              "    </tr>\n",
              "    <tr>\n",
              "      <th>2018-10-02</th>\n",
              "      <td>0.33</td>\n",
              "    </tr>\n",
              "    <tr>\n",
              "      <th>2018-10-03</th>\n",
              "      <td>0.00</td>\n",
              "    </tr>\n",
              "    <tr>\n",
              "      <th>2018-10-04</th>\n",
              "      <td>0.04</td>\n",
              "    </tr>\n",
              "    <tr>\n",
              "      <th>2018-10-05</th>\n",
              "      <td>0.00</td>\n",
              "    </tr>\n",
              "  </tbody>\n",
              "</table>\n",
              "</div>"
            ],
            "text/plain": [
              "            Precipitation\n",
              "Date                     \n",
              "2018-10-01           0.00\n",
              "2018-10-02           0.33\n",
              "2018-10-03           0.00\n",
              "2018-10-04           0.04\n",
              "2018-10-05           0.00"
            ]
          },
          "metadata": {
            "tags": []
          },
          "execution_count": 3
        }
      ]
    },
    {
      "cell_type": "markdown",
      "metadata": {
        "id": "hRorqTFndIRP"
      },
      "source": [
        "A precipitação é dada em polegadas."
      ]
    },
    {
      "cell_type": "markdown",
      "metadata": {
        "id": "C3XBP4k4dIRP"
      },
      "source": [
        "Veja muitos dias sem precipitação e grandes valores nos dias 11, 12 e 27 de outubro. Visualize os dados e resuma as estatísticas."
      ]
    },
    {
      "cell_type": "code",
      "metadata": {
        "ExecuteTime": {
          "end_time": "2018-12-16T06:32:42.239330Z",
          "start_time": "2018-12-16T06:32:41.970880Z"
        },
        "id": "pyeqWiTRdIRP",
        "colab": {
          "base_uri": "https://localhost:8080/",
          "height": 520
        },
        "outputId": "632e0707-3dce-4882-98d4-8f817990399c"
      },
      "source": [
        "plt.figure(dpi=120)\n",
        "df_ppt.plot(ax=plt.gca())\n",
        "plt.show();"
      ],
      "execution_count": null,
      "outputs": [
        {
          "output_type": "display_data",
          "data": {
            "image/png": "[encoded data removed]",
            "text/plain": [
              "<Figure size 720x480 with 1 Axes>"
            ]
          },
          "metadata": {
            "tags": [],
            "needs_background": "light"
          }
        }
      ]
    },
    {
      "cell_type": "code",
      "metadata": {
        "ExecuteTime": {
          "end_time": "2018-12-16T06:32:42.255392Z",
          "start_time": "2018-12-16T06:32:42.241787Z"
        },
        "id": "Ijbf4rr9dIRS",
        "colab": {
          "base_uri": "https://localhost:8080/",
          "height": 297
        },
        "outputId": "2d281ec1-8696-4f40-ec36-9e3284ae2b27"
      },
      "source": [
        "df_ppt.describe()"
      ],
      "execution_count": null,
      "outputs": [
        {
          "output_type": "execute_result",
          "data": {
            "text/html": [
              "<div>\n",
              "<style scoped>\n",
              "    .dataframe tbody tr th:only-of-type {\n",
              "        vertical-align: middle;\n",
              "    }\n",
              "\n",
              "    .dataframe tbody tr th {\n",
              "        vertical-align: top;\n",
              "    }\n",
              "\n",
              "    .dataframe thead th {\n",
              "        text-align: right;\n",
              "    }\n",
              "</style>\n",
              "<table border=\"1\" class=\"dataframe\">\n",
              "  <thead>\n",
              "    <tr style=\"text-align: right;\">\n",
              "      <th></th>\n",
              "      <th>Precipitation</th>\n",
              "    </tr>\n",
              "  </thead>\n",
              "  <tbody>\n",
              "    <tr>\n",
              "      <th>count</th>\n",
              "      <td>31.000000</td>\n",
              "    </tr>\n",
              "    <tr>\n",
              "      <th>mean</th>\n",
              "      <td>0.107097</td>\n",
              "    </tr>\n",
              "    <tr>\n",
              "      <th>std</th>\n",
              "      <td>0.266573</td>\n",
              "    </tr>\n",
              "    <tr>\n",
              "      <th>min</th>\n",
              "      <td>0.000000</td>\n",
              "    </tr>\n",
              "    <tr>\n",
              "      <th>25%</th>\n",
              "      <td>0.000000</td>\n",
              "    </tr>\n",
              "    <tr>\n",
              "      <th>50%</th>\n",
              "      <td>0.000000</td>\n",
              "    </tr>\n",
              "    <tr>\n",
              "      <th>75%</th>\n",
              "      <td>0.045000</td>\n",
              "    </tr>\n",
              "    <tr>\n",
              "      <th>max</th>\n",
              "      <td>1.030000</td>\n",
              "    </tr>\n",
              "  </tbody>\n",
              "</table>\n",
              "</div>"
            ],
            "text/plain": [
              "       Precipitation\n",
              "count      31.000000\n",
              "mean        0.107097\n",
              "std         0.266573\n",
              "min         0.000000\n",
              "25%         0.000000\n",
              "50%         0.000000\n",
              "75%         0.045000\n",
              "max         1.030000"
            ]
          },
          "metadata": {
            "tags": []
          },
          "execution_count": 5
        }
      ]
    },
    {
      "cell_type": "markdown",
      "metadata": {
        "id": "Y7hiazAddIRU"
      },
      "source": [
        "\n",
        "\n",
        "Devido aos muitos dias sem precipitação, a média e o desvio padrão são relativamente pequenos, mas o grande valor máximo sugere que há pelo menos um ponto anômalo (11 de outubro de 2018).\n",
        "\n",
        "\n"
      ]
    },
    {
      "cell_type": "markdown",
      "metadata": {
        "id": "e0otg2c6dIRV"
      },
      "source": [
        "### Grafico de controle "
      ]
    },
    {
      "cell_type": "markdown",
      "metadata": {
        "id": "ovH0MBmKdIRV"
      },
      "source": [
        "\n",
        "\n",
        "Podemos ver nas estatísticas resumidas e no gráfico que quaisquer anomalias estarão acima da média, que é de 0,107 pol; portanto, precisamos apenas de um gráfico de controle unilateral. "
      ]
    },
    {
      "cell_type": "markdown",
      "metadata": {
        "id": "8fnPUYpSdIRW"
      },
      "source": [
        "Há outra maneira de chegar à mesma conclusão. Como a precipitação não pode ser um número negativo, todos os valores possíveis abaixo da média estão no intervalo 0 <= precipitação <= 0,107 pol.), Que estão dentro de um desvio padrão (0,267 pol.) Da média e, portanto, não são anomalias."
      ]
    },
    {
      "cell_type": "markdown",
      "metadata": {
        "id": "BEiAfC-YdIRW"
      },
      "source": [
        "Portanto, vamos criar um gráfico de controle unilateral."
      ]
    },
    {
      "cell_type": "code",
      "metadata": {
        "ExecuteTime": {
          "end_time": "2018-12-16T06:32:42.263013Z",
          "start_time": "2018-12-16T06:32:42.257188Z"
        },
        "id": "ftyjpk5AdIRX"
      },
      "source": [
        "def control_plot(time_series, threshold):\n",
        "    '''\n",
        "    Creates a one-sided control plot from a time series\n",
        "    (that is, plots threshold above the mean but not below)\n",
        "    Also, returns list of points that exceed the threshold\n",
        "    i.e., points for which the value > mean + threshold*(standard deviation)\n",
        "    \n",
        "    Args: \n",
        "        time_series: (pandas dataframe; index column is date in datetime format and  \n",
        "        column 0 is data)\n",
        "        threshold: z-score threshold for anomaly detection (float)\n",
        "\n",
        "    Returns: \n",
        "        Control plot of time_series    \n",
        "        anomalies: anomalies that exceed threshold (pandas dataframe)\n",
        "    ''' \n",
        "    \n",
        "    mean_= time_series.iloc[:,0].mean()\n",
        "    stdev_= time_series.iloc[:,0].std()\n",
        "    cutoff = mean_+threshold*stdev_\n",
        "    plt.figure(dpi=140)\n",
        "    time_series.plot(ax=plt.gca())\n",
        "    plt.axhline(y=mean_, color='g', linestyle='--', label='mean')\n",
        "    # Use threshold to plot line at threshold*stdev_ times away from the mean\n",
        "    plt.axhline(y=cutoff, color='r', linestyle=':', label='threshold')\n",
        "    plt.legend(loc='best')\n",
        "    plt.title('NYC October 2018 precipitation')\n",
        "    plt.ylabel('Precipitation (in.)')\n",
        "    \n",
        "    # Create dataframe of anomalies that exceed the cutoff\n",
        "    anomalies = time_series[time_series.values > cutoff]\n",
        "    return anomalies"
      ],
      "execution_count": null,
      "outputs": []
    },
    {
      "cell_type": "markdown",
      "metadata": {
        "id": "ut3feqGWdIRZ"
      },
      "source": [
        "Defina um limite de 3 desvios padrão e plote os resultados."
      ]
    },
    {
      "cell_type": "code",
      "metadata": {
        "ExecuteTime": {
          "end_time": "2018-12-16T06:32:42.600432Z",
          "start_time": "2018-12-16T06:32:42.264797Z"
        },
        "id": "jWVadnwqdIRa",
        "colab": {
          "base_uri": "https://localhost:8080/",
          "height": 622
        },
        "outputId": "40ac2a40-92f5-43c7-9e28-8df4edb180db"
      },
      "source": [
        "anomaly_ppt = control_plot(df_ppt, 3)"
      ],
      "execution_count": null,
      "outputs": [
        {
          "output_type": "display_data",
          "data": {
            "image/png": "[encoded data removed]",
            "text/plain": [
              "<Figure size 840x560 with 1 Axes>"
            ]
          },
          "metadata": {
            "tags": [],
            "needs_background": "light"
          }
        }
      ]
    },
    {
      "cell_type": "markdown",
      "metadata": {
        "id": "2IWy4Ys6dIRb"
      },
      "source": [
        "Há uma anomalia. Obtenha os dados para este ponto."
      ]
    },
    {
      "cell_type": "code",
      "metadata": {
        "ExecuteTime": {
          "end_time": "2018-12-16T06:32:42.608995Z",
          "start_time": "2018-12-16T06:32:42.602650Z"
        },
        "id": "U5VY3kAkdIRc",
        "colab": {
          "base_uri": "https://localhost:8080/",
          "height": 68
        },
        "outputId": "a1b3b18f-e7a7-4878-e6e9-149dc5c55d70"
      },
      "source": [
        "print(anomaly_ppt)"
      ],
      "execution_count": null,
      "outputs": [
        {
          "output_type": "stream",
          "text": [
            "            Precipitation\n",
            "Date                     \n",
            "2018-10-11           1.03\n"
          ],
          "name": "stdout"
        }
      ]
    },
    {
      "cell_type": "markdown",
      "metadata": {
        "id": "HAGw1c3gdIRe"
      },
      "source": [
        "Este resultado concorda com a nossa inspeção visual. (Para pequenos conjuntos de dados, os seres humanos são bons em detectar padrões estatísticos, como outliers, a olho nu.)"
      ]
    },
    {
      "cell_type": "markdown",
      "metadata": {
        "id": "NHhiS2NidIRe"
      },
      "source": [
        "\n",
        "\n",
        "Soma acumulada (CUSUM)"
      ]
    },
    {
      "cell_type": "markdown",
      "metadata": {
        "id": "x5f0CTnPdIRf"
      },
      "source": [
        "Para comparação, vamos aplicar a abordagem CUSUM e ver o que encontramos. Usaremos os contornos do algoritmo na palestra."
      ]
    },
    {
      "cell_type": "code",
      "metadata": {
        "ExecuteTime": {
          "end_time": "2018-12-16T06:32:42.617210Z",
          "start_time": "2018-12-16T06:32:42.610983Z"
        },
        "id": "3OOiiRvkdIRf"
      },
      "source": [
        "def cusum(data, mean, shift, threshold):\n",
        "    '''\n",
        "   as somas cumulativas alta e baixa e use-as para detecção de anomalias.\n",
        "     Uma anomalia é relatada se as somas cumulativas estiverem além de um determinado limite.\n",
        "    \n",
        "     Args:\n",
        "         data: (uma série temporal como pandas dataframe; a coluna do índice é a data no formato datetime e\n",
        "         coluna 0 são dados)\n",
        "         mean: média dos dados ou outra média (flutuante)\n",
        "         mudança: mudança normal nos dados; o desvio padrão é recomendado (flutuante)\n",
        "         threshold: limite para classificar o ponto como anomalia (float)\n",
        "\n",
        "     Devoluções:\n",
        "         cusum: as somas cumulativas alta e baixa juntas Calcular com os dados (pandas dataframe)\n",
        "         anomalias: anomalias acima e abaixo do limite (pandas dataframe)\n",
        "    ''' \n",
        "    high_sum = 0.0\n",
        "    low_sum = 0.0\n",
        "    anomalies = [] \n",
        "    high_sum_final = []\n",
        "    low_sum_final = []\n",
        "    index_names = data.index\n",
        "    data_values = data.values\n",
        "    for index, item in enumerate(data_values):\n",
        "        high_sum = max(0, high_sum + item - mean - shift)\n",
        "        low_sum = min(0, low_sum + item - mean + shift)\n",
        "        high_sum_final.append(high_sum)\n",
        "        low_sum_final.append(low_sum)\n",
        "        if high_sum > threshold or low_sum < -threshold:\n",
        "            anomalies.append((index_names[index], item.tolist()))\n",
        "    cusum = data\n",
        "    cusum = cusum.assign(High_Cusum=high_sum_final, Low_Cusum=low_sum_final)\n",
        "    return cusum, anomalies"
      ],
      "execution_count": null,
      "outputs": []
    },
    {
      "cell_type": "markdown",
      "metadata": {
        "id": "kznlYFuwdIRh"
      },
      "source": [
        "E também traçaremos os resultados de nossa análise CUSUM."
      ]
    },
    {
      "cell_type": "code",
      "metadata": {
        "ExecuteTime": {
          "end_time": "2018-12-16T06:32:42.626144Z",
          "start_time": "2018-12-16T06:32:42.619706Z"
        },
        "id": "Jc-cqu9RdIRi"
      },
      "source": [
        "def cusum_plot(time_series, threshold):\n",
        "    '''\n",
        "    Plote as somas cumulativas alta e baixa e use-as para detecção de anomalias.\n",
        "     Uma anomalia é relatada se as somas cumulativas estiverem além de um determinado limite.\n",
        "    \n",
        "     Args:\n",
        "         time_series: (uma série temporal como pandas dataframe; a coluna de índice é date\n",
        "         no formato datetime e a coluna 0 é data)\n",
        "         threshold: limite para classificar o ponto como anomalia (float)\n",
        "\n",
        "     Devoluções:\n",
        "         Uma plotagem dos dados com a soma acumulada alta.\n",
        "         cusum_results: as somas cumulativas alta e baixa, juntamente com dados\n",
        "         e quaisquer anomalias acima e abaixo do limite (quadro de dados do pandas;\n",
        "         da função cumsum)\n",
        "    ''' \n",
        "    # Use a média e o desvio padrão de toda a série temporal\n",
        "     # para calcular somas cumulativas\n",
        "    mean_= time_series.iloc[:,0].mean()\n",
        "    stdev_= time_series.iloc[:,0].std()\n",
        "    \n",
        "    # definir limiar em termos de desvio padrão\n",
        "    cusum_results = cusum(time_series, mean_, stdev_, threshold*stdev_)\n",
        "    ax=time_series.plot()\n",
        "    ax.axhline(y=mean_, color='g', linestyle='--',label='average')\n",
        "    ax.axhline(y=mean_+threshold*stdev_, color='r', linestyle='--',label='High threshold')\n",
        "    # Use threshold to plot line at threshold*stdev_ times away from the mean\n",
        "    ax.scatter(x=cusum_results[0].index, y=cusum_results[0]['High_Cusum'], \n",
        "             color='k', linestyle=':',label='High Cusum')                      \n",
        "    plt.legend(loc='center left')\n",
        "    plt.title('NYC October 2018 precipitation')\n",
        "    plt.ylabel('Precipitation (in.)')\n",
        "    plt.gcf().set_size_inches(8,6)\n",
        "    plt.show()\n",
        "    \n",
        "    return cusum_results"
      ],
      "execution_count": null,
      "outputs": []
    },
    {
      "cell_type": "markdown",
      "metadata": {
        "id": "Ki41S8s8dIRj"
      },
      "source": [
        "\n",
        "Escolha do limiar: para o gráfico de controle, usamos 3 vezes o desvio padrão. Observe que o limite equivalente para CUSUM é * threshold * = 2, pois CUSUM inclui o * shift * (que escolhemos ser um desvio padrão) em seu cálculo da soma acumulada."
      ]
    },
    {
      "cell_type": "code",
      "metadata": {
        "ExecuteTime": {
          "end_time": "2018-12-16T06:32:42.871983Z",
          "start_time": "2018-12-16T06:32:42.628284Z"
        },
        "id": "1o_2gxqqdIRk",
        "colab": {
          "base_uri": "https://localhost:8080/",
          "height": 439
        },
        "outputId": "75d01f03-3664-45cf-9582-0a0b5ecec9b6"
      },
      "source": [
        "cusum_plot(df_ppt, 2);"
      ],
      "execution_count": null,
      "outputs": [
        {
          "output_type": "display_data",
          "data": {
            "image/png": "[encoded data removed]",
            "text/plain": [
              "<Figure size 576x432 with 1 Axes>"
            ]
          },
          "metadata": {
            "tags": [],
            "needs_background": "light"
          }
        }
      ]
    },
    {
      "cell_type": "markdown",
      "metadata": {
        "id": "44faQRrZdIRm"
      },
      "source": [
        "Observe que CUSUM encontra a mesma anomalia que a carta de controle (1,03 polegadas em 11 de outubro de 2018), mas também rotula os dois pontos sucessivos como anomalias. Por quê?\n",
        "\n",
        "Os diferentes resultados refletem a diferença nos algoritmos. A tabela de controle está procurando pontos únicos e anômalos. CUSUM é sensível a alterações no comportamento dos dados. Como resultado, sinaliza pontos como anômalos até que o comportamento da série temporal retorne ao normal.\n",
        "\n",
        "De fato, CUSUM é usado para detecção de pontos de mudança: encontrar quando a distribuição subjacente da série temporal mudou."
      ]
    },
    {
      "cell_type": "markdown",
      "metadata": {
        "id": "uzrmmmGmdIRm"
      },
      "source": [
        "** Um comentário final. ** Usamos todos os dados para calcular as estatísticas da linha de base (média e desvio padrão) para a detecção de anomalias. Embora essa abordagem às vezes seja usada, a presença de anomalias nos dados pode influenciar essas estatísticas de linha de base. Uma abordagem mais rigorosa é selecionar dados considerados normais, usar esses dados para calcular as estatísticas da linha de base e só então detectar as anomalias. Vamos explorar essa idéia no Exercício 1."
      ]
    },
    {
      "cell_type": "markdown",
      "metadata": {
        "id": "HsS8rjTSdIRn"
      },
      "source": [
        "# Seção 2: modelos autogressivos\n",
        "\n",
        "Até o momento, realizamos a análise no modo offline - tínhamos todos os dados de interesse em mãos. Como resultado, ao examinar um determinado ponto, poderíamos usar o passado e o futuro (com relação a esse ponto) para calcular estatísticas como a média e o desvio padrão.\n",
        "\n",
        "Frequentemente, estamos interessados em analisar séries temporais no modo de streaming - ou seja, à medida que os dados se tornam disponíveis. Nesse caso, qualquer modelo que usamos para detectar anomalias só pode usar o passado (com relação a um determinado ponto). Dados futuros não estão disponíveis.\n",
        "\n",
        "Como discutido nas palestras, modelos autoregressivos são comumente usados para detecção de anomalias em fluxo e examinaremos um desses modelos abaixo."
      ]
    },
    {
      "cell_type": "markdown",
      "metadata": {
        "id": "tRW7Ku5mdIRn"
      },
      "source": [
        "### Dados"
      ]
    },
    {
      "cell_type": "markdown",
      "metadata": {
        "id": "79zyjVPcdIRo"
      },
      "source": [
        "Usaremos outro conjunto de dados meteorológicos da cidade de Nova York (coletado no aeroporto JFK): temperaturas diárias máxima e mínima de 1 de fevereiro de 1959 a 31 de outubro de 2018.\n",
        "\n",
        "Os dados brutos estão disponíveis no site da NOAA que usamos:\n",
        "\n",
        "https://www.ncdc.noaa.gov/cdo-web/datasets/GHCND/stations/GHCND:USW00094789/detail\n",
        "\n",
        "Aqui nós fornecemos uma versão limpa dos dados. Processamos os dados brutos da seguinte forma: (1) as datas foram escritas em um formato útil para a análise de séries temporais e (2) dois valores ausentes foram preenchidos.\n",
        "\n",
        "As duas datas que não tinham valores (para a temperatura máxima ou mínima) foram 1º de dezembro de 1959 e 1º de maio de 1960. Para os propósitos deste caderno, adicionamos valores anômalos a essas datas, como mostrado abaixo. (Se não estivéssemos estudando a detecção de anomalias, teríamos adicionado valores correspondentes às temperaturas médias do dia anterior e do dia seguinte para evitar lacunas na série temporal.)"
      ]
    },
    {
      "cell_type": "code",
      "metadata": {
        "ExecuteTime": {
          "end_time": "2018-12-16T06:32:44.842781Z",
          "start_time": "2018-12-16T06:32:42.873981Z"
        },
        "id": "R5hIFanrdIRo"
      },
      "source": [
        "df_nyc_temp = pd.read_csv('nyc_daily_temp_final.csv', parse_dates=True, index_col=0)"
      ],
      "execution_count": null,
      "outputs": []
    },
    {
      "cell_type": "code",
      "metadata": {
        "ExecuteTime": {
          "end_time": "2018-12-16T06:32:45.653187Z",
          "start_time": "2018-12-16T06:32:44.844415Z"
        },
        "id": "A6F6ER1UdIRq",
        "colab": {
          "base_uri": "https://localhost:8080/",
          "height": 482
        },
        "outputId": "09dd241d-42c7-4dd0-85c7-a6bebdc4ce9b"
      },
      "source": [
        "plt.figure(dpi=120)\n",
        "df_nyc_temp.plot(ax=plt.gca())\n",
        "plt.title('Daily NYC temp')\n",
        "plt.xlabel('Date')\n",
        "plt.ylabel('Temp (°F)')\n",
        "plt.show()\n"
      ],
      "execution_count": null,
      "outputs": [
        {
          "output_type": "display_data",
          "data": {
            "image/png": "[encoded data removed]",
            "text/plain": [
              "<Figure size 720x480 with 1 Axes>"
            ]
          },
          "metadata": {
            "tags": [],
            "needs_background": "light"
          }
        }
      ]
    },
    {
      "cell_type": "markdown",
      "metadata": {
        "id": "vNvvQNqNdIRs"
      },
      "source": [
        "Não é fácil ver se existem anomalias com tantos pontos. Vejamos as estatísticas para TMAX (a temperatura diária máxima) e TMIN (a temperatura diária mínima)."
      ]
    },
    {
      "cell_type": "code",
      "metadata": {
        "ExecuteTime": {
          "end_time": "2018-12-16T06:32:45.674777Z",
          "start_time": "2018-12-16T06:32:45.655338Z"
        },
        "id": "CI6-pZH_dIRt",
        "colab": {
          "base_uri": "https://localhost:8080/",
          "height": 297
        },
        "outputId": "0dcafc5d-ce08-41c4-b676-a94daf41ba2f"
      },
      "source": [
        "df_nyc_temp.describe()"
      ],
      "execution_count": null,
      "outputs": [
        {
          "output_type": "execute_result",
          "data": {
            "text/html": [
              "<div>\n",
              "<style scoped>\n",
              "    .dataframe tbody tr th:only-of-type {\n",
              "        vertical-align: middle;\n",
              "    }\n",
              "\n",
              "    .dataframe tbody tr th {\n",
              "        vertical-align: top;\n",
              "    }\n",
              "\n",
              "    .dataframe thead th {\n",
              "        text-align: right;\n",
              "    }\n",
              "</style>\n",
              "<table border=\"1\" class=\"dataframe\">\n",
              "  <thead>\n",
              "    <tr style=\"text-align: right;\">\n",
              "      <th></th>\n",
              "      <th>TMAX</th>\n",
              "      <th>TMIN</th>\n",
              "    </tr>\n",
              "  </thead>\n",
              "  <tbody>\n",
              "    <tr>\n",
              "      <th>count</th>\n",
              "      <td>21823.000000</td>\n",
              "      <td>21823.000000</td>\n",
              "    </tr>\n",
              "    <tr>\n",
              "      <th>mean</th>\n",
              "      <td>61.548091</td>\n",
              "      <td>47.129496</td>\n",
              "    </tr>\n",
              "    <tr>\n",
              "      <th>std</th>\n",
              "      <td>17.585690</td>\n",
              "      <td>16.468738</td>\n",
              "    </tr>\n",
              "    <tr>\n",
              "      <th>min</th>\n",
              "      <td>8.000000</td>\n",
              "      <td>-2.000000</td>\n",
              "    </tr>\n",
              "    <tr>\n",
              "      <th>25%</th>\n",
              "      <td>48.000000</td>\n",
              "      <td>34.000000</td>\n",
              "    </tr>\n",
              "    <tr>\n",
              "      <th>50%</th>\n",
              "      <td>62.000000</td>\n",
              "      <td>47.000000</td>\n",
              "    </tr>\n",
              "    <tr>\n",
              "      <th>75%</th>\n",
              "      <td>77.000000</td>\n",
              "      <td>62.000000</td>\n",
              "    </tr>\n",
              "    <tr>\n",
              "      <th>max</th>\n",
              "      <td>104.000000</td>\n",
              "      <td>82.000000</td>\n",
              "    </tr>\n",
              "  </tbody>\n",
              "</table>\n",
              "</div>"
            ],
            "text/plain": [
              "               TMAX          TMIN\n",
              "count  21823.000000  21823.000000\n",
              "mean      61.548091     47.129496\n",
              "std       17.585690     16.468738\n",
              "min        8.000000     -2.000000\n",
              "25%       48.000000     34.000000\n",
              "50%       62.000000     47.000000\n",
              "75%       77.000000     62.000000\n",
              "max      104.000000     82.000000"
            ]
          },
          "metadata": {
            "tags": []
          },
          "execution_count": 14
        }
      ]
    },
    {
      "cell_type": "markdown",
      "metadata": {
        "id": "ioCatRjudIRv"
      },
      "source": [
        "\n",
        "O valor mais alto de TMAX (104 ° F) e o valor mais baixo de TMIN (-2 ° F) são bastante extremos. Mas são essas anomalias?"
      ]
    },
    {
      "cell_type": "markdown",
      "metadata": {
        "id": "jutjIp86dIRv"
      },
      "source": [
        "E as anomalias que semeamos nas datas com valores ausentes?"
      ]
    },
    {
      "cell_type": "markdown",
      "metadata": {
        "id": "XAOYx_ekdIRv"
      },
      "source": [
        "\n",
        "\n",
        "Em 1º de dezembro de 1959, o TMAX e o TMIN estão 40 ° F * mais quentes * do que o previsto por uma interpolação linear."
      ]
    },
    {
      "cell_type": "code",
      "metadata": {
        "ExecuteTime": {
          "end_time": "2018-12-16T06:32:45.688537Z",
          "start_time": "2018-12-16T06:32:45.677180Z"
        },
        "id": "rFzeZ3JadIRw",
        "colab": {
          "base_uri": "https://localhost:8080/",
          "height": 173
        },
        "outputId": "2f629414-37d5-43bb-9c26-3890c05118b1"
      },
      "source": [
        "df_nyc_temp.loc['1959-11-30':'1959-12-02']"
      ],
      "execution_count": null,
      "outputs": [
        {
          "output_type": "execute_result",
          "data": {
            "text/html": [
              "<div>\n",
              "<style scoped>\n",
              "    .dataframe tbody tr th:only-of-type {\n",
              "        vertical-align: middle;\n",
              "    }\n",
              "\n",
              "    .dataframe tbody tr th {\n",
              "        vertical-align: top;\n",
              "    }\n",
              "\n",
              "    .dataframe thead th {\n",
              "        text-align: right;\n",
              "    }\n",
              "</style>\n",
              "<table border=\"1\" class=\"dataframe\">\n",
              "  <thead>\n",
              "    <tr style=\"text-align: right;\">\n",
              "      <th></th>\n",
              "      <th>TMAX</th>\n",
              "      <th>TMIN</th>\n",
              "    </tr>\n",
              "    <tr>\n",
              "      <th>DATE</th>\n",
              "      <th></th>\n",
              "      <th></th>\n",
              "    </tr>\n",
              "  </thead>\n",
              "  <tbody>\n",
              "    <tr>\n",
              "      <th>1959-11-30</th>\n",
              "      <td>38</td>\n",
              "      <td>26</td>\n",
              "    </tr>\n",
              "    <tr>\n",
              "      <th>1959-12-01</th>\n",
              "      <td>95</td>\n",
              "      <td>80</td>\n",
              "    </tr>\n",
              "    <tr>\n",
              "      <th>1959-12-02</th>\n",
              "      <td>51</td>\n",
              "      <td>33</td>\n",
              "    </tr>\n",
              "  </tbody>\n",
              "</table>\n",
              "</div>"
            ],
            "text/plain": [
              "            TMAX  TMIN\n",
              "DATE                  \n",
              "1959-11-30    38    26\n",
              "1959-12-01    95    80\n",
              "1959-12-02    51    33"
            ]
          },
          "metadata": {
            "tags": []
          },
          "execution_count": 15
        }
      ]
    },
    {
      "cell_type": "markdown",
      "metadata": {
        "id": "PsJf3w2SdIRy"
      },
      "source": [
        "Para 1º de maio de 1960, o TMAX e o TMIN estão 40 ° F * mais frios * do que o que uma interpolação linear poderia prever."
      ]
    },
    {
      "cell_type": "code",
      "metadata": {
        "ExecuteTime": {
          "end_time": "2018-12-16T06:32:45.704241Z",
          "start_time": "2018-12-16T06:32:45.690675Z"
        },
        "id": "zh-molZfdIRy",
        "colab": {
          "base_uri": "https://localhost:8080/",
          "height": 173
        },
        "outputId": "11ec2118-af8d-47e8-ef87-dbdd68b4de46"
      },
      "source": [
        "df_nyc_temp.loc['1960-4-30':'1960-5-02']"
      ],
      "execution_count": null,
      "outputs": [
        {
          "output_type": "execute_result",
          "data": {
            "text/html": [
              "<div>\n",
              "<style scoped>\n",
              "    .dataframe tbody tr th:only-of-type {\n",
              "        vertical-align: middle;\n",
              "    }\n",
              "\n",
              "    .dataframe tbody tr th {\n",
              "        vertical-align: top;\n",
              "    }\n",
              "\n",
              "    .dataframe thead th {\n",
              "        text-align: right;\n",
              "    }\n",
              "</style>\n",
              "<table border=\"1\" class=\"dataframe\">\n",
              "  <thead>\n",
              "    <tr style=\"text-align: right;\">\n",
              "      <th></th>\n",
              "      <th>TMAX</th>\n",
              "      <th>TMIN</th>\n",
              "    </tr>\n",
              "    <tr>\n",
              "      <th>DATE</th>\n",
              "      <th></th>\n",
              "      <th></th>\n",
              "    </tr>\n",
              "  </thead>\n",
              "  <tbody>\n",
              "    <tr>\n",
              "      <th>1960-04-30</th>\n",
              "      <td>60</td>\n",
              "      <td>50</td>\n",
              "    </tr>\n",
              "    <tr>\n",
              "      <th>1960-05-01</th>\n",
              "      <td>22</td>\n",
              "      <td>7</td>\n",
              "    </tr>\n",
              "    <tr>\n",
              "      <th>1960-05-02</th>\n",
              "      <td>64</td>\n",
              "      <td>43</td>\n",
              "    </tr>\n",
              "  </tbody>\n",
              "</table>\n",
              "</div>"
            ],
            "text/plain": [
              "            TMAX  TMIN\n",
              "DATE                  \n",
              "1960-04-30    60    50\n",
              "1960-05-01    22     7\n",
              "1960-05-02    64    43"
            ]
          },
          "metadata": {
            "tags": []
          },
          "execution_count": 16
        }
      ]
    },
    {
      "cell_type": "markdown",
      "metadata": {
        "id": "fkBAVGbNdIR0"
      },
      "source": [
        "Vamos detectar esses pontos como anomalias?"
      ]
    },
    {
      "cell_type": "markdown",
      "metadata": {
        "id": "1ghAo6TDdIR0"
      },
      "source": [
        "### Modelando"
      ]
    },
    {
      "cell_type": "markdown",
      "metadata": {
        "id": "2uR52DcJdIR1"
      },
      "source": [
        "Usaremos um modelo auto-regressivo para detectar anomalias. Aqui, examinaremos o TMAX e deixaremos o TMIN para o Exercício 2.\n",
        "\n",
        "Começamos criando um quadro de dados apenas de TMAX"
      ]
    },
    {
      "cell_type": "code",
      "metadata": {
        "ExecuteTime": {
          "end_time": "2018-12-16T06:32:45.723247Z",
          "start_time": "2018-12-16T06:32:45.711028Z"
        },
        "id": "FP5mIoBmdIR1"
      },
      "source": [
        "df_nyc_tmax=df_nyc_temp[['TMAX']]"
      ],
      "execution_count": null,
      "outputs": []
    },
    {
      "cell_type": "markdown",
      "metadata": {
        "id": "GfiOL2umdIR3"
      },
      "source": [
        "Verifique se o novo quadro de dados está conforme o esperado."
      ]
    },
    {
      "cell_type": "code",
      "metadata": {
        "ExecuteTime": {
          "end_time": "2018-12-16T06:32:45.747657Z",
          "start_time": "2018-12-16T06:32:45.735100Z"
        },
        "id": "kcp_VkEWdIR3",
        "colab": {
          "base_uri": "https://localhost:8080/",
          "height": 153
        },
        "outputId": "132ecb30-e3ba-4327-f1ed-c93d3628f30d"
      },
      "source": [
        "df_nyc_tmax.info()"
      ],
      "execution_count": null,
      "outputs": [
        {
          "output_type": "stream",
          "text": [
            "<class 'pandas.core.frame.DataFrame'>\n",
            "DatetimeIndex: 21823 entries, 1959-02-01 to 2018-10-31\n",
            "Data columns (total 1 columns):\n",
            " #   Column  Non-Null Count  Dtype\n",
            "---  ------  --------------  -----\n",
            " 0   TMAX    21823 non-null  int64\n",
            "dtypes: int64(1)\n",
            "memory usage: 981.0 KB\n"
          ],
          "name": "stdout"
        }
      ]
    },
    {
      "cell_type": "code",
      "metadata": {
        "ExecuteTime": {
          "end_time": "2018-12-16T06:32:45.769138Z",
          "start_time": "2018-12-16T06:32:45.756464Z"
        },
        "id": "loRhPH02dIR5",
        "colab": {
          "base_uri": "https://localhost:8080/",
          "height": 235
        },
        "outputId": "7ce23a80-224d-44f3-fcc8-67b2b33baa68"
      },
      "source": [
        "df_nyc_tmax.head()"
      ],
      "execution_count": null,
      "outputs": [
        {
          "output_type": "execute_result",
          "data": {
            "text/html": [
              "<div>\n",
              "<style scoped>\n",
              "    .dataframe tbody tr th:only-of-type {\n",
              "        vertical-align: middle;\n",
              "    }\n",
              "\n",
              "    .dataframe tbody tr th {\n",
              "        vertical-align: top;\n",
              "    }\n",
              "\n",
              "    .dataframe thead th {\n",
              "        text-align: right;\n",
              "    }\n",
              "</style>\n",
              "<table border=\"1\" class=\"dataframe\">\n",
              "  <thead>\n",
              "    <tr style=\"text-align: right;\">\n",
              "      <th></th>\n",
              "      <th>TMAX</th>\n",
              "    </tr>\n",
              "    <tr>\n",
              "      <th>DATE</th>\n",
              "      <th></th>\n",
              "    </tr>\n",
              "  </thead>\n",
              "  <tbody>\n",
              "    <tr>\n",
              "      <th>1959-02-01</th>\n",
              "      <td>24</td>\n",
              "    </tr>\n",
              "    <tr>\n",
              "      <th>1959-02-02</th>\n",
              "      <td>26</td>\n",
              "    </tr>\n",
              "    <tr>\n",
              "      <th>1959-02-03</th>\n",
              "      <td>38</td>\n",
              "    </tr>\n",
              "    <tr>\n",
              "      <th>1959-02-04</th>\n",
              "      <td>44</td>\n",
              "    </tr>\n",
              "    <tr>\n",
              "      <th>1959-02-05</th>\n",
              "      <td>46</td>\n",
              "    </tr>\n",
              "  </tbody>\n",
              "</table>\n",
              "</div>"
            ],
            "text/plain": [
              "            TMAX\n",
              "DATE            \n",
              "1959-02-01    24\n",
              "1959-02-02    26\n",
              "1959-02-03    38\n",
              "1959-02-04    44\n",
              "1959-02-05    46"
            ]
          },
          "metadata": {
            "tags": []
          },
          "execution_count": 19
        }
      ]
    },
    {
      "cell_type": "markdown",
      "metadata": {
        "id": "4CJA1tCZdIR7"
      },
      "source": [
        "Como linha de base para o modelo de regressão automática, podemos verificar o que um gráfico de controle revela como anomalias. Em contraste com o exemplo da precipitação, aqui podemos ter anomalias em ambos os lados da média, portanto modificamos * control_plot * para se tornar um gráfico de controle completo de dois lados."
      ]
    },
    {
      "cell_type": "code",
      "metadata": {
        "ExecuteTime": {
          "end_time": "2018-12-16T06:32:45.784408Z",
          "start_time": "2018-12-16T06:32:45.771344Z"
        },
        "id": "nb4sF-g8dIR8"
      },
      "source": [
        "def control_plot_full(time_series, threshold):\n",
        "    '''\n",
        "    Cria um gráfico de controle frente e verso de uma série temporal\n",
        "     (limiar de plotagem acima e abaixo da média)\n",
        "     Além disso, retorna a lista de pontos que excedem o limite\n",
        "     ou seja, pontos para os quais o valor> média + limite * (desvio padrão)\n",
        "     e valor <média - limiar * (desvio padrão)\n",
        "    \n",
        "     Args:\n",
        "         time_series: (pandas dataframe; a coluna de índice é a data no formato datetime e\n",
        "         coluna 0 são dados)\n",
        "         threshold: limite para detecção de anomalias (float)\n",
        "\n",
        "     Devoluções:\n",
        "         Gráfico de controle de time_series\n",
        "         anomalias: anomalias que excedem o limite (pandas dataframe)\n",
        "    ''' \n",
        "    \n",
        "    mean_= time_series.iloc[:, 0].mean()\n",
        "    stdev_= time_series.iloc[:, 0].std()\n",
        "    time_series.plot()\n",
        "    plt.axhline(y=mean_, color='g', linestyle='--',label='average')\n",
        "    # Use threshold to plot line at threshold*stdev_ times away from the mean\n",
        "    plt.axhline(y=mean_+threshold*stdev_, color='r', linestyle=':', label='high threshold')\n",
        "    plt.axhline(y=mean_-threshold*stdev_, color='m', linestyle=':', label='low threshold')\n",
        "    plt.legend(loc='upper right')\n",
        "    plt.title('NYC Temperature')\n",
        "    plt.ylabel('Temp (F)')\n",
        "    plt.gcf().set_size_inches(8,6)\n",
        "    plt.show()\n",
        "    \n",
        "    # Create dataframe of anomalies that exceed the threshold\n",
        "    anomaly_mask = (np.abs(time_series.values - mean_) > threshold*stdev_)\n",
        "    anomalies = time_series[anomaly_mask]\n",
        "    return anomalies"
      ],
      "execution_count": null,
      "outputs": []
    },
    {
      "cell_type": "code",
      "metadata": {
        "ExecuteTime": {
          "end_time": "2018-12-16T06:32:46.278327Z",
          "start_time": "2018-12-16T06:32:45.787202Z"
        },
        "id": "v0UBtc0PdIR-",
        "colab": {
          "base_uri": "https://localhost:8080/",
          "height": 498
        },
        "outputId": "747d10a9-1e08-4c73-9cf4-332d07a7832b"
      },
      "source": [
        "control_plot_full(df_nyc_tmax, 3)"
      ],
      "execution_count": null,
      "outputs": [
        {
          "output_type": "display_data",
          "data": {
            "image/png": "[encoded data removed]",
            "text/plain": [
              "<Figure size 576x432 with 1 Axes>"
            ]
          },
          "metadata": {
            "tags": [],
            "needs_background": "light"
          }
        },
        {
          "output_type": "execute_result",
          "data": {
            "text/html": [
              "<div>\n",
              "<style scoped>\n",
              "    .dataframe tbody tr th:only-of-type {\n",
              "        vertical-align: middle;\n",
              "    }\n",
              "\n",
              "    .dataframe tbody tr th {\n",
              "        vertical-align: top;\n",
              "    }\n",
              "\n",
              "    .dataframe thead th {\n",
              "        text-align: right;\n",
              "    }\n",
              "</style>\n",
              "<table border=\"1\" class=\"dataframe\">\n",
              "  <thead>\n",
              "    <tr style=\"text-align: right;\">\n",
              "      <th></th>\n",
              "      <th>TMAX</th>\n",
              "    </tr>\n",
              "    <tr>\n",
              "      <th>DATE</th>\n",
              "      <th></th>\n",
              "    </tr>\n",
              "  </thead>\n",
              "  <tbody>\n",
              "    <tr>\n",
              "      <th>1977-01-17</th>\n",
              "      <td>8</td>\n",
              "    </tr>\n",
              "  </tbody>\n",
              "</table>\n",
              "</div>"
            ],
            "text/plain": [
              "            TMAX\n",
              "DATE            \n",
              "1977-01-17     8"
            ]
          },
          "metadata": {
            "tags": []
          },
          "execution_count": 21
        }
      ]
    },
    {
      "cell_type": "markdown",
      "metadata": {
        "id": "djBZLXwSdIR_"
      },
      "source": [
        "Encontramos apenas uma anomalia: o mínimo de TMAX."
      ]
    },
    {
      "cell_type": "markdown",
      "metadata": {
        "id": "eXZnUCoNdISA"
      },
      "source": [
        "Para o nosso modelo de regressão automática. Uma visão geral de tais modelos (com referências para estudos adicionais) é fornecida na palestra; uma discussão detalhada vai além do escopo das lições sobre detecção de anomalias.\n",
        "\n",
        "** Nota_1 **: pode ser necessário um trabalho significativo para encontrar um modelo de regressão automática bem-sucedido e não reivindicamos que o modelo apresentado aqui seja o ideal. Os parâmetros foram escolhidos para ter um tempo de execução razoável.\n",
        "\n",
        "** Nota_2 **: Existem modelos que explicitamente incorporam _ efeitos sazonais_ durante a modelagem, como a função SARIMAX dos modelos estatísticos. A duração de um ciclo completo não pode ser muito longa para a série convergir; portanto, as estações anuais não funcionam bem com dados diários (cada estação tem 365 pontos de dados). Um tratamento mais sofisticado, como fazer uma análise de Fourier e depois subtrair o componente anual, normalmente seria feito nesse caso.\n",
        "\n",
        "** Nota_3 **: Os modelos de regressão automática em python exigem que as séries temporais analisadas tenham uma frequência de data apropriada, e é por isso que é importante verificar se há valores ausentes como uma etapa de pré-processamento. Se o time_series estiver completo, muitos pacotes que lidam com time_series podem inferir a frequência, mesmo que não seja fornecida."
      ]
    },
    {
      "cell_type": "code",
      "metadata": {
        "ExecuteTime": {
          "end_time": "2018-12-16T06:32:46.290287Z",
          "start_time": "2018-12-16T06:32:46.281067Z"
        },
        "id": "xMeS9mysdISA",
        "colab": {
          "base_uri": "https://localhost:8080/",
          "height": 34
        },
        "outputId": "269a1982-3928-41ef-8a72-806c4aae2116"
      },
      "source": [
        "print(df_nyc_tmax.index.inferred_freq)"
      ],
      "execution_count": null,
      "outputs": [
        {
          "output_type": "stream",
          "text": [
            "D\n"
          ],
          "name": "stdout"
        }
      ]
    },
    {
      "cell_type": "markdown",
      "metadata": {
        "id": "pOWNLhRMdISC"
      },
      "source": [
        "\n",
        "\n",
        "Frequência diária. Isso é bom! Vamos deixar explícito!"
      ]
    },
    {
      "cell_type": "code",
      "metadata": {
        "ExecuteTime": {
          "end_time": "2018-12-16T06:32:46.303411Z",
          "start_time": "2018-12-16T06:32:46.298138Z"
        },
        "id": "oblSAL7jdISC"
      },
      "source": [
        "df_nyc_temp.index.freq=df_nyc_tmax.index.inferred_freq"
      ],
      "execution_count": null,
      "outputs": []
    },
    {
      "cell_type": "markdown",
      "metadata": {
        "id": "l8kN3HkfdISE"
      },
      "source": [
        "E agora, para ajustar nossos dados ao modelo."
      ]
    },
    {
      "cell_type": "code",
      "metadata": {
        "ExecuteTime": {
          "end_time": "2018-12-16T06:32:55.747363Z",
          "start_time": "2018-12-16T06:32:46.305445Z"
        },
        "id": "0bF2alQudISF"
      },
      "source": [
        "tmax_sar=ARIMA(df_nyc_tmax, order=(1,1,4)).fit()\n",
        "\n",
        "tmax_sar.summary()"
      ],
      "execution_count": null,
      "outputs": []
    },
    {
      "cell_type": "markdown",
      "metadata": {
        "id": "ge8SdWQldISG"
      },
      "source": [
        "Não discutiremos as estatísticas relatadas, exceto para dizer que ela inclui o desvio padrão dos resíduos (6.516), que usaremos posteriormente."
      ]
    },
    {
      "cell_type": "markdown",
      "metadata": {
        "id": "BeJK3L2HdISG"
      },
      "source": [
        "Verificamos os diagnósticos para verificar se as premissas subjacentes ao modelo são atendidas e também para obter informações adicionais sobre a qualidade do ajuste. Isso é feito usando um gráfico Q-Q (verificando se os resíduos seguem uma distribuição normal), investigando os resíduos por padrões temporais e plotando um histograma dos resíduos"
      ]
    },
    {
      "cell_type": "code",
      "metadata": {
        "ExecuteTime": {
          "end_time": "2018-12-16T06:32:56.076359Z",
          "start_time": "2018-12-16T06:32:55.750391Z"
        },
        "id": "kwb8sGCvdISH"
      },
      "source": [
        "# Get the predicted standard deviation. This is the 6.516 we saw earlier\n",
        "sigma_pred = tmax_sar.resid.std()\n",
        "# Calculate the standardized residuals from the (regular) residuals\n",
        "tmax_std_resid = tmax_sar.resid/sigma_pred\n",
        "\n",
        "plt.title('Patterns in residual')\n",
        "plt.plot(tmax_std_resid);"
      ],
      "execution_count": null,
      "outputs": []
    },
    {
      "cell_type": "code",
      "metadata": {
        "ExecuteTime": {
          "end_time": "2018-12-16T06:32:56.610146Z",
          "start_time": "2018-12-16T06:32:56.077849Z"
        },
        "id": "NBUL5ayJdISJ"
      },
      "source": [
        "fig = plt.figure(figsize=(12,6))\n",
        "ax = plt.subplot(121)\n",
        "plt.title('Distribution of residuals')\n",
        "sns.distplot(tmax_std_resid.values, bins=50, ax=ax);\n",
        "stats.probplot(tmax_std_resid.values, dist='norm', sparams=(2.5,), plot=plt.subplot(122));"
      ],
      "execution_count": null,
      "outputs": []
    },
    {
      "cell_type": "markdown",
      "metadata": {
        "id": "JSNKuplwdISL"
      },
      "source": [
        "Para detecção de anomalias, focamos no gráfico superior: resíduos padronizados. O residual padronizado é o residual (a diferença entre o valor observado e o valor previsto) dividido pelo desvio padrão previsto (a raiz quadrada da variação prevista mencionada acima). É uma versão mais sofisticada do z-score que discutimos na 1 aula."
      ]
    },
    {
      "cell_type": "markdown",
      "metadata": {
        "id": "NaAPtjMddISM"
      },
      "source": [
        "Uma regra prática para detectar anomalias com resíduos padronizados: anomalias são pontos para os quais a magnitude dos resíduos padronizados é maior que 4. Vamos encontrar esses pontos."
      ]
    },
    {
      "cell_type": "code",
      "metadata": {
        "ExecuteTime": {
          "end_time": "2018-12-16T06:32:56.617817Z",
          "start_time": "2018-12-16T06:32:56.612193Z"
        },
        "id": "Bnxbrj2jdISM"
      },
      "source": [
        "# Reportar as anomalias\n",
        "anomaly_mask = np.abs(tmax_std_resid) > 4\n",
        "tmax_anomalies = tmax_std_resid[anomaly_mask]\n",
        "print(tmax_anomalies)"
      ],
      "execution_count": null,
      "outputs": []
    },
    {
      "cell_type": "markdown",
      "metadata": {
        "id": "Jg5aUfVadISO"
      },
      "source": [
        "Our model found both of the seeded anomalies (Dec. 1, 1959 and May 1, 1960). \n",
        "\n",
        "The model did not find the lone anomaly detected by the control plot (January 17, 1977), but it did find several others that were not picked up by the control plot. \n",
        "\n",
        "The next step would be to vary the parameters of the autoregression model and check how robust these findings are, but as that belongs to the realm of time series analysis, we will stop here."
      ]
    },
    {
      "cell_type": "code",
      "metadata": {
        "id": "k1992NGTF6xT"
      },
      "source": [
        ""
      ],
      "execution_count": null,
      "outputs": []
    }
  ]
}
